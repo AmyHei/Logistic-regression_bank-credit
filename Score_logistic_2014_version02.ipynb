{
 "cells": [
  {
   "cell_type": "markdown",
   "metadata": {},
   "source": [
    "# The goal of project is to predict sample's 2014 credit according 2013 information, and then compare with default credit. Finally calculate the scorecard."
   ]
  },
  {
   "cell_type": "code",
   "execution_count": 2,
   "metadata": {},
   "outputs": [],
   "source": [
    "import pandas as pd\n",
    "import numpy as np\n",
    "import seaborn as sns\n",
    "import matplotlib.pyplot as plt\n",
    "%matplotlib inline\n",
    "from sklearn import preprocessing\n",
    "from sklearn.linear_model import LogisticRegression\n",
    "from sklearn.model_selection import train_test_split\n",
    "import warnings\n",
    "warnings.filterwarnings('ignore')"
   ]
  },
  {
   "cell_type": "code",
   "execution_count": 3,
   "metadata": {},
   "outputs": [],
   "source": [
    "df= pd.read_csv(\"/Users/yaqinhei/Downloads/CreditCardDefaultForecast.csv\")"
   ]
  },
  {
   "cell_type": "code",
   "execution_count": 4,
   "metadata": {},
   "outputs": [
    {
     "data": {
      "text/html": [
       "<div>\n",
       "<style scoped>\n",
       "    .dataframe tbody tr th:only-of-type {\n",
       "        vertical-align: middle;\n",
       "    }\n",
       "\n",
       "    .dataframe tbody tr th {\n",
       "        vertical-align: top;\n",
       "    }\n",
       "\n",
       "    .dataframe thead th {\n",
       "        text-align: right;\n",
       "    }\n",
       "</style>\n",
       "<table border=\"1\" class=\"dataframe\">\n",
       "  <thead>\n",
       "    <tr style=\"text-align: right;\">\n",
       "      <th></th>\n",
       "      <th>Account_Number</th>\n",
       "      <th>Default</th>\n",
       "      <th>Limit</th>\n",
       "      <th>Annual_Income</th>\n",
       "      <th>Month_On_Book</th>\n",
       "      <th>Gender_Code</th>\n",
       "      <th>Age_By_2013</th>\n",
       "      <th>Education_Code</th>\n",
       "      <th>Industry_code</th>\n",
       "      <th>OS_201312</th>\n",
       "      <th>...</th>\n",
       "      <th>Payment_201309</th>\n",
       "      <th>OS_201308</th>\n",
       "      <th>DUE_201308</th>\n",
       "      <th>Payment_201308</th>\n",
       "      <th>OS_201307</th>\n",
       "      <th>DUE_201307</th>\n",
       "      <th>Payment_201307</th>\n",
       "      <th>OS_201306</th>\n",
       "      <th>DUE_201306</th>\n",
       "      <th>Payment_201306</th>\n",
       "    </tr>\n",
       "  </thead>\n",
       "  <tbody>\n",
       "    <tr>\n",
       "      <th>0</th>\n",
       "      <td>820000011</td>\n",
       "      <td>0</td>\n",
       "      <td>5000</td>\n",
       "      <td>30000</td>\n",
       "      <td>147</td>\n",
       "      <td>M</td>\n",
       "      <td>39</td>\n",
       "      <td>NaN</td>\n",
       "      <td>4.0</td>\n",
       "      <td>4769.19</td>\n",
       "      <td>...</td>\n",
       "      <td>700.00</td>\n",
       "      <td>4889.00</td>\n",
       "      <td>1</td>\n",
       "      <td>200.00</td>\n",
       "      <td>4804.63</td>\n",
       "      <td>1</td>\n",
       "      <td>240.00</td>\n",
       "      <td>4782.88</td>\n",
       "      <td>1</td>\n",
       "      <td>405.00</td>\n",
       "    </tr>\n",
       "    <tr>\n",
       "      <th>1</th>\n",
       "      <td>820000046</td>\n",
       "      <td>0</td>\n",
       "      <td>5000</td>\n",
       "      <td>30000</td>\n",
       "      <td>147</td>\n",
       "      <td>F</td>\n",
       "      <td>59</td>\n",
       "      <td>NaN</td>\n",
       "      <td>4.0</td>\n",
       "      <td>343.51</td>\n",
       "      <td>...</td>\n",
       "      <td>300.00</td>\n",
       "      <td>106.94</td>\n",
       "      <td>0</td>\n",
       "      <td>1820.00</td>\n",
       "      <td>3427.26</td>\n",
       "      <td>0</td>\n",
       "      <td>1300.00</td>\n",
       "      <td>-7.56</td>\n",
       "      <td>0</td>\n",
       "      <td>1000.00</td>\n",
       "    </tr>\n",
       "    <tr>\n",
       "      <th>2</th>\n",
       "      <td>820000054</td>\n",
       "      <td>0</td>\n",
       "      <td>5000</td>\n",
       "      <td>30000</td>\n",
       "      <td>147</td>\n",
       "      <td>F</td>\n",
       "      <td>36</td>\n",
       "      <td>NaN</td>\n",
       "      <td>4.0</td>\n",
       "      <td>-0.01</td>\n",
       "      <td>...</td>\n",
       "      <td>321.45</td>\n",
       "      <td>-0.01</td>\n",
       "      <td>0</td>\n",
       "      <td>321.45</td>\n",
       "      <td>-0.01</td>\n",
       "      <td>0</td>\n",
       "      <td>321.45</td>\n",
       "      <td>-0.01</td>\n",
       "      <td>0</td>\n",
       "      <td>321.45</td>\n",
       "    </tr>\n",
       "    <tr>\n",
       "      <th>3</th>\n",
       "      <td>820000062</td>\n",
       "      <td>0</td>\n",
       "      <td>5000</td>\n",
       "      <td>30000</td>\n",
       "      <td>147</td>\n",
       "      <td>M</td>\n",
       "      <td>38</td>\n",
       "      <td>NaN</td>\n",
       "      <td>4.0</td>\n",
       "      <td>-4.72</td>\n",
       "      <td>...</td>\n",
       "      <td>860.00</td>\n",
       "      <td>-4.72</td>\n",
       "      <td>0</td>\n",
       "      <td>860.00</td>\n",
       "      <td>-4.72</td>\n",
       "      <td>0</td>\n",
       "      <td>860.00</td>\n",
       "      <td>-4.72</td>\n",
       "      <td>0</td>\n",
       "      <td>860.00</td>\n",
       "    </tr>\n",
       "    <tr>\n",
       "      <th>4</th>\n",
       "      <td>820000089</td>\n",
       "      <td>0</td>\n",
       "      <td>5000</td>\n",
       "      <td>30000</td>\n",
       "      <td>147</td>\n",
       "      <td>F</td>\n",
       "      <td>57</td>\n",
       "      <td>NaN</td>\n",
       "      <td>4.0</td>\n",
       "      <td>0.00</td>\n",
       "      <td>...</td>\n",
       "      <td>4.05</td>\n",
       "      <td>0.00</td>\n",
       "      <td>0</td>\n",
       "      <td>4.05</td>\n",
       "      <td>0.00</td>\n",
       "      <td>0</td>\n",
       "      <td>4.05</td>\n",
       "      <td>0.00</td>\n",
       "      <td>0</td>\n",
       "      <td>4.05</td>\n",
       "    </tr>\n",
       "  </tbody>\n",
       "</table>\n",
       "<p>5 rows × 30 columns</p>\n",
       "</div>"
      ],
      "text/plain": [
       "   Account_Number  Default  Limit  Annual_Income  Month_On_Book Gender_Code  \\\n",
       "0       820000011        0   5000          30000            147           M   \n",
       "1       820000046        0   5000          30000            147           F   \n",
       "2       820000054        0   5000          30000            147           F   \n",
       "3       820000062        0   5000          30000            147           M   \n",
       "4       820000089        0   5000          30000            147           F   \n",
       "\n",
       "   Age_By_2013  Education_Code  Industry_code  OS_201312  ...  Payment_201309  \\\n",
       "0           39             NaN            4.0    4769.19  ...          700.00   \n",
       "1           59             NaN            4.0     343.51  ...          300.00   \n",
       "2           36             NaN            4.0      -0.01  ...          321.45   \n",
       "3           38             NaN            4.0      -4.72  ...          860.00   \n",
       "4           57             NaN            4.0       0.00  ...            4.05   \n",
       "\n",
       "   OS_201308  DUE_201308  Payment_201308  OS_201307  DUE_201307  \\\n",
       "0    4889.00           1          200.00    4804.63           1   \n",
       "1     106.94           0         1820.00    3427.26           0   \n",
       "2      -0.01           0          321.45      -0.01           0   \n",
       "3      -4.72           0          860.00      -4.72           0   \n",
       "4       0.00           0            4.05       0.00           0   \n",
       "\n",
       "   Payment_201307  OS_201306  DUE_201306  Payment_201306  \n",
       "0          240.00    4782.88           1          405.00  \n",
       "1         1300.00      -7.56           0         1000.00  \n",
       "2          321.45      -0.01           0          321.45  \n",
       "3          860.00      -4.72           0          860.00  \n",
       "4            4.05       0.00           0            4.05  \n",
       "\n",
       "[5 rows x 30 columns]"
      ]
     },
     "execution_count": 4,
     "metadata": {},
     "output_type": "execute_result"
    }
   ],
   "source": [
    "df.head()"
   ]
  },
  {
   "cell_type": "code",
   "execution_count": 4,
   "metadata": {},
   "outputs": [
    {
     "name": "stdout",
     "output_type": "stream",
     "text": [
      "<class 'pandas.core.frame.DataFrame'>\n",
      "RangeIndex: 1000 entries, 0 to 999\n",
      "Data columns (total 30 columns):\n",
      " #   Column          Non-Null Count  Dtype  \n",
      "---  ------          --------------  -----  \n",
      " 0   Account_Number  1000 non-null   int64  \n",
      " 1   Default         1000 non-null   int64  \n",
      " 2   Limit           1000 non-null   int64  \n",
      " 3   Annual_Income   1000 non-null   int64  \n",
      " 4   Month_On_Book   1000 non-null   int64  \n",
      " 5   Gender_Code     1000 non-null   object \n",
      " 6   Age_By_2013     1000 non-null   int64  \n",
      " 7   Education_Code  166 non-null    float64\n",
      " 8   Industry_code   989 non-null    float64\n",
      " 9   OS_201312       1000 non-null   float64\n",
      " 10  DUE_201312      1000 non-null   int64  \n",
      " 11  Payment_201312  1000 non-null   float64\n",
      " 12  OS_201311       1000 non-null   float64\n",
      " 13  DUE_201311      1000 non-null   int64  \n",
      " 14  Payment_201311  1000 non-null   float64\n",
      " 15  OS_201310       1000 non-null   float64\n",
      " 16  DUE_201310      1000 non-null   int64  \n",
      " 17  Payment_201310  1000 non-null   float64\n",
      " 18  OS_201309       1000 non-null   float64\n",
      " 19  DUE_201309      1000 non-null   int64  \n",
      " 20  Payment_201309  1000 non-null   float64\n",
      " 21  OS_201308       1000 non-null   float64\n",
      " 22  DUE_201308      1000 non-null   int64  \n",
      " 23  Payment_201308  1000 non-null   float64\n",
      " 24  OS_201307       1000 non-null   float64\n",
      " 25  DUE_201307      1000 non-null   int64  \n",
      " 26  Payment_201307  1000 non-null   float64\n",
      " 27  OS_201306       1000 non-null   float64\n",
      " 28  DUE_201306      1000 non-null   int64  \n",
      " 29  Payment_201306  1000 non-null   float64\n",
      "dtypes: float64(16), int64(13), object(1)\n",
      "memory usage: 234.5+ KB\n"
     ]
    }
   ],
   "source": [
    "df.info()"
   ]
  },
  {
   "cell_type": "code",
   "execution_count": 5,
   "metadata": {},
   "outputs": [
    {
     "data": {
      "text/html": [
       "<div>\n",
       "<style scoped>\n",
       "    .dataframe tbody tr th:only-of-type {\n",
       "        vertical-align: middle;\n",
       "    }\n",
       "\n",
       "    .dataframe tbody tr th {\n",
       "        vertical-align: top;\n",
       "    }\n",
       "\n",
       "    .dataframe thead th {\n",
       "        text-align: right;\n",
       "    }\n",
       "</style>\n",
       "<table border=\"1\" class=\"dataframe\">\n",
       "  <thead>\n",
       "    <tr style=\"text-align: right;\">\n",
       "      <th></th>\n",
       "      <th>Account_Number</th>\n",
       "      <th>Default</th>\n",
       "      <th>Limit</th>\n",
       "      <th>Annual_Income</th>\n",
       "      <th>Month_On_Book</th>\n",
       "      <th>Age_By_2013</th>\n",
       "      <th>Education_Code</th>\n",
       "      <th>Industry_code</th>\n",
       "      <th>OS_201312</th>\n",
       "      <th>DUE_201312</th>\n",
       "      <th>...</th>\n",
       "      <th>Payment_201309</th>\n",
       "      <th>OS_201308</th>\n",
       "      <th>DUE_201308</th>\n",
       "      <th>Payment_201308</th>\n",
       "      <th>OS_201307</th>\n",
       "      <th>DUE_201307</th>\n",
       "      <th>Payment_201307</th>\n",
       "      <th>OS_201306</th>\n",
       "      <th>DUE_201306</th>\n",
       "      <th>Payment_201306</th>\n",
       "    </tr>\n",
       "  </thead>\n",
       "  <tbody>\n",
       "    <tr>\n",
       "      <th>count</th>\n",
       "      <td>1.000000e+03</td>\n",
       "      <td>1000.00000</td>\n",
       "      <td>1000.000000</td>\n",
       "      <td>1.000000e+03</td>\n",
       "      <td>1000.000000</td>\n",
       "      <td>1000.000000</td>\n",
       "      <td>166.000000</td>\n",
       "      <td>989.000000</td>\n",
       "      <td>1000.000000</td>\n",
       "      <td>1000.000000</td>\n",
       "      <td>...</td>\n",
       "      <td>1000.000000</td>\n",
       "      <td>1000.000000</td>\n",
       "      <td>1000.000000</td>\n",
       "      <td>1000.000000</td>\n",
       "      <td>1000.000000</td>\n",
       "      <td>1000.000000</td>\n",
       "      <td>1000.000000</td>\n",
       "      <td>1000.000000</td>\n",
       "      <td>1000.000000</td>\n",
       "      <td>1000.000000</td>\n",
       "    </tr>\n",
       "    <tr>\n",
       "      <th>mean</th>\n",
       "      <td>8.200296e+08</td>\n",
       "      <td>0.10000</td>\n",
       "      <td>11227.000000</td>\n",
       "      <td>7.002719e+04</td>\n",
       "      <td>145.947000</td>\n",
       "      <td>46.626000</td>\n",
       "      <td>8.228916</td>\n",
       "      <td>17.237614</td>\n",
       "      <td>4061.497690</td>\n",
       "      <td>0.447000</td>\n",
       "      <td>...</td>\n",
       "      <td>1581.047770</td>\n",
       "      <td>4020.573920</td>\n",
       "      <td>0.379000</td>\n",
       "      <td>1740.649040</td>\n",
       "      <td>3884.317200</td>\n",
       "      <td>0.380000</td>\n",
       "      <td>1675.287450</td>\n",
       "      <td>4030.244420</td>\n",
       "      <td>0.416000</td>\n",
       "      <td>1619.730790</td>\n",
       "    </tr>\n",
       "    <tr>\n",
       "      <th>std</th>\n",
       "      <td>6.088140e+04</td>\n",
       "      <td>0.30015</td>\n",
       "      <td>10482.621636</td>\n",
       "      <td>6.403540e+04</td>\n",
       "      <td>0.755488</td>\n",
       "      <td>6.462808</td>\n",
       "      <td>4.643210</td>\n",
       "      <td>8.726800</td>\n",
       "      <td>7839.986061</td>\n",
       "      <td>0.709715</td>\n",
       "      <td>...</td>\n",
       "      <td>4395.876909</td>\n",
       "      <td>7396.924587</td>\n",
       "      <td>0.579392</td>\n",
       "      <td>5408.747207</td>\n",
       "      <td>7006.564627</td>\n",
       "      <td>0.603294</td>\n",
       "      <td>4744.071334</td>\n",
       "      <td>7245.036458</td>\n",
       "      <td>0.585907</td>\n",
       "      <td>4775.807626</td>\n",
       "    </tr>\n",
       "    <tr>\n",
       "      <th>min</th>\n",
       "      <td>8.200000e+08</td>\n",
       "      <td>0.00000</td>\n",
       "      <td>2000.000000</td>\n",
       "      <td>2.520000e+04</td>\n",
       "      <td>142.000000</td>\n",
       "      <td>35.000000</td>\n",
       "      <td>0.000000</td>\n",
       "      <td>1.000000</td>\n",
       "      <td>-24000.620000</td>\n",
       "      <td>0.000000</td>\n",
       "      <td>...</td>\n",
       "      <td>0.000000</td>\n",
       "      <td>-10015.000000</td>\n",
       "      <td>0.000000</td>\n",
       "      <td>0.000000</td>\n",
       "      <td>-9280.380000</td>\n",
       "      <td>0.000000</td>\n",
       "      <td>0.000000</td>\n",
       "      <td>-8750.000000</td>\n",
       "      <td>0.000000</td>\n",
       "      <td>0.000000</td>\n",
       "    </tr>\n",
       "    <tr>\n",
       "      <th>25%</th>\n",
       "      <td>8.200068e+08</td>\n",
       "      <td>0.00000</td>\n",
       "      <td>6000.000000</td>\n",
       "      <td>3.813600e+04</td>\n",
       "      <td>146.000000</td>\n",
       "      <td>42.000000</td>\n",
       "      <td>8.000000</td>\n",
       "      <td>11.000000</td>\n",
       "      <td>0.000000</td>\n",
       "      <td>0.000000</td>\n",
       "      <td>...</td>\n",
       "      <td>100.000000</td>\n",
       "      <td>0.000000</td>\n",
       "      <td>0.000000</td>\n",
       "      <td>95.947500</td>\n",
       "      <td>0.000000</td>\n",
       "      <td>0.000000</td>\n",
       "      <td>100.000000</td>\n",
       "      <td>0.000000</td>\n",
       "      <td>0.000000</td>\n",
       "      <td>75.772500</td>\n",
       "    </tr>\n",
       "    <tr>\n",
       "      <th>50%</th>\n",
       "      <td>8.200137e+08</td>\n",
       "      <td>0.00000</td>\n",
       "      <td>8000.000000</td>\n",
       "      <td>5.219400e+04</td>\n",
       "      <td>146.000000</td>\n",
       "      <td>46.000000</td>\n",
       "      <td>11.000000</td>\n",
       "      <td>19.000000</td>\n",
       "      <td>204.425000</td>\n",
       "      <td>0.000000</td>\n",
       "      <td>...</td>\n",
       "      <td>280.000000</td>\n",
       "      <td>220.330000</td>\n",
       "      <td>0.000000</td>\n",
       "      <td>282.500000</td>\n",
       "      <td>222.865000</td>\n",
       "      <td>0.000000</td>\n",
       "      <td>264.400000</td>\n",
       "      <td>151.340000</td>\n",
       "      <td>0.000000</td>\n",
       "      <td>250.000000</td>\n",
       "    </tr>\n",
       "    <tr>\n",
       "      <th>75%</th>\n",
       "      <td>8.200213e+08</td>\n",
       "      <td>0.00000</td>\n",
       "      <td>12000.000000</td>\n",
       "      <td>7.800000e+04</td>\n",
       "      <td>146.000000</td>\n",
       "      <td>51.000000</td>\n",
       "      <td>11.000000</td>\n",
       "      <td>20.000000</td>\n",
       "      <td>5873.190000</td>\n",
       "      <td>1.000000</td>\n",
       "      <td>...</td>\n",
       "      <td>1000.000000</td>\n",
       "      <td>5785.655000</td>\n",
       "      <td>1.000000</td>\n",
       "      <td>1000.000000</td>\n",
       "      <td>5757.282500</td>\n",
       "      <td>1.000000</td>\n",
       "      <td>1000.000000</td>\n",
       "      <td>5848.725000</td>\n",
       "      <td>1.000000</td>\n",
       "      <td>1000.000000</td>\n",
       "    </tr>\n",
       "    <tr>\n",
       "      <th>max</th>\n",
       "      <td>8.203763e+08</td>\n",
       "      <td>1.00000</td>\n",
       "      <td>122500.000000</td>\n",
       "      <td>1.061856e+06</td>\n",
       "      <td>147.000000</td>\n",
       "      <td>72.000000</td>\n",
       "      <td>11.000000</td>\n",
       "      <td>35.000000</td>\n",
       "      <td>104349.890000</td>\n",
       "      <td>4.000000</td>\n",
       "      <td>...</td>\n",
       "      <td>52179.120000</td>\n",
       "      <td>83724.190000</td>\n",
       "      <td>4.000000</td>\n",
       "      <td>100000.000000</td>\n",
       "      <td>85890.650000</td>\n",
       "      <td>4.000000</td>\n",
       "      <td>52179.120000</td>\n",
       "      <td>82580.910000</td>\n",
       "      <td>3.000000</td>\n",
       "      <td>52179.120000</td>\n",
       "    </tr>\n",
       "  </tbody>\n",
       "</table>\n",
       "<p>8 rows × 29 columns</p>\n",
       "</div>"
      ],
      "text/plain": [
       "       Account_Number     Default          Limit  Annual_Income  \\\n",
       "count    1.000000e+03  1000.00000    1000.000000   1.000000e+03   \n",
       "mean     8.200296e+08     0.10000   11227.000000   7.002719e+04   \n",
       "std      6.088140e+04     0.30015   10482.621636   6.403540e+04   \n",
       "min      8.200000e+08     0.00000    2000.000000   2.520000e+04   \n",
       "25%      8.200068e+08     0.00000    6000.000000   3.813600e+04   \n",
       "50%      8.200137e+08     0.00000    8000.000000   5.219400e+04   \n",
       "75%      8.200213e+08     0.00000   12000.000000   7.800000e+04   \n",
       "max      8.203763e+08     1.00000  122500.000000   1.061856e+06   \n",
       "\n",
       "       Month_On_Book  Age_By_2013  Education_Code  Industry_code  \\\n",
       "count    1000.000000  1000.000000      166.000000     989.000000   \n",
       "mean      145.947000    46.626000        8.228916      17.237614   \n",
       "std         0.755488     6.462808        4.643210       8.726800   \n",
       "min       142.000000    35.000000        0.000000       1.000000   \n",
       "25%       146.000000    42.000000        8.000000      11.000000   \n",
       "50%       146.000000    46.000000       11.000000      19.000000   \n",
       "75%       146.000000    51.000000       11.000000      20.000000   \n",
       "max       147.000000    72.000000       11.000000      35.000000   \n",
       "\n",
       "           OS_201312   DUE_201312  ...  Payment_201309     OS_201308  \\\n",
       "count    1000.000000  1000.000000  ...     1000.000000   1000.000000   \n",
       "mean     4061.497690     0.447000  ...     1581.047770   4020.573920   \n",
       "std      7839.986061     0.709715  ...     4395.876909   7396.924587   \n",
       "min    -24000.620000     0.000000  ...        0.000000 -10015.000000   \n",
       "25%         0.000000     0.000000  ...      100.000000      0.000000   \n",
       "50%       204.425000     0.000000  ...      280.000000    220.330000   \n",
       "75%      5873.190000     1.000000  ...     1000.000000   5785.655000   \n",
       "max    104349.890000     4.000000  ...    52179.120000  83724.190000   \n",
       "\n",
       "        DUE_201308  Payment_201308     OS_201307   DUE_201307  Payment_201307  \\\n",
       "count  1000.000000     1000.000000   1000.000000  1000.000000     1000.000000   \n",
       "mean      0.379000     1740.649040   3884.317200     0.380000     1675.287450   \n",
       "std       0.579392     5408.747207   7006.564627     0.603294     4744.071334   \n",
       "min       0.000000        0.000000  -9280.380000     0.000000        0.000000   \n",
       "25%       0.000000       95.947500      0.000000     0.000000      100.000000   \n",
       "50%       0.000000      282.500000    222.865000     0.000000      264.400000   \n",
       "75%       1.000000     1000.000000   5757.282500     1.000000     1000.000000   \n",
       "max       4.000000   100000.000000  85890.650000     4.000000    52179.120000   \n",
       "\n",
       "          OS_201306   DUE_201306  Payment_201306  \n",
       "count   1000.000000  1000.000000     1000.000000  \n",
       "mean    4030.244420     0.416000     1619.730790  \n",
       "std     7245.036458     0.585907     4775.807626  \n",
       "min    -8750.000000     0.000000        0.000000  \n",
       "25%        0.000000     0.000000       75.772500  \n",
       "50%      151.340000     0.000000      250.000000  \n",
       "75%     5848.725000     1.000000     1000.000000  \n",
       "max    82580.910000     3.000000    52179.120000  \n",
       "\n",
       "[8 rows x 29 columns]"
      ]
     },
     "execution_count": 5,
     "metadata": {},
     "output_type": "execute_result"
    }
   ],
   "source": [
    "df.describe()"
   ]
  },
  {
   "cell_type": "markdown",
   "metadata": {},
   "source": [
    "# First step obeserve data."
   ]
  },
  {
   "cell_type": "code",
   "execution_count": 6,
   "metadata": {},
   "outputs": [
    {
     "data": {
      "text/html": [
       "<div>\n",
       "<style scoped>\n",
       "    .dataframe tbody tr th:only-of-type {\n",
       "        vertical-align: middle;\n",
       "    }\n",
       "\n",
       "    .dataframe tbody tr th {\n",
       "        vertical-align: top;\n",
       "    }\n",
       "\n",
       "    .dataframe thead th {\n",
       "        text-align: right;\n",
       "    }\n",
       "</style>\n",
       "<table border=\"1\" class=\"dataframe\">\n",
       "  <thead>\n",
       "    <tr style=\"text-align: right;\">\n",
       "      <th></th>\n",
       "      <th>DUE_201307</th>\n",
       "      <th>DUE_201308</th>\n",
       "      <th>Month_On_Book</th>\n",
       "      <th>OS_201306</th>\n",
       "      <th>OS_201309</th>\n",
       "      <th>OS_201310</th>\n",
       "      <th>OS_201311</th>\n",
       "      <th>OS_201312</th>\n",
       "    </tr>\n",
       "    <tr>\n",
       "      <th>Default</th>\n",
       "      <th></th>\n",
       "      <th></th>\n",
       "      <th></th>\n",
       "      <th></th>\n",
       "      <th></th>\n",
       "      <th></th>\n",
       "      <th></th>\n",
       "      <th></th>\n",
       "    </tr>\n",
       "  </thead>\n",
       "  <tbody>\n",
       "    <tr>\n",
       "      <th>0</th>\n",
       "      <td>268</td>\n",
       "      <td>280</td>\n",
       "      <td>131530</td>\n",
       "      <td>3237843.43</td>\n",
       "      <td>3298491.28</td>\n",
       "      <td>3271822.84</td>\n",
       "      <td>3303163.91</td>\n",
       "      <td>3251029.13</td>\n",
       "    </tr>\n",
       "    <tr>\n",
       "      <th>1</th>\n",
       "      <td>112</td>\n",
       "      <td>99</td>\n",
       "      <td>14417</td>\n",
       "      <td>792400.99</td>\n",
       "      <td>759684.85</td>\n",
       "      <td>789229.66</td>\n",
       "      <td>813339.78</td>\n",
       "      <td>810468.56</td>\n",
       "    </tr>\n",
       "  </tbody>\n",
       "</table>\n",
       "</div>"
      ],
      "text/plain": [
       "         DUE_201307  DUE_201308  Month_On_Book   OS_201306   OS_201309  \\\n",
       "Default                                                                  \n",
       "0               268         280         131530  3237843.43  3298491.28   \n",
       "1               112          99          14417   792400.99   759684.85   \n",
       "\n",
       "          OS_201310   OS_201311   OS_201312  \n",
       "Default                                      \n",
       "0        3271822.84  3303163.91  3251029.13  \n",
       "1         789229.66   813339.78   810468.56  "
      ]
     },
     "execution_count": 6,
     "metadata": {},
     "output_type": "execute_result"
    }
   ],
   "source": [
    "table = df.pivot_table(['Month_On_Book','OS_201312','OS_201311','OS_201310','OS_201309','DUE_201308','DUE_201307','OS_201306',],\n",
    "                                   index=['Default'],\n",
    "                                   aggfunc=np.sum)\n",
    "table"
   ]
  },
  {
   "cell_type": "code",
   "execution_count": 7,
   "metadata": {},
   "outputs": [
    {
     "data": {
      "image/png": "[encoded data removed]",
      "text/plain": [
       "<Figure size 432x288 with 1 Axes>"
      ]
     },
     "metadata": {
      "needs_background": "light"
     },
     "output_type": "display_data"
    },
    {
     "data": {
      "text/plain": [
       "<Figure size 432x288 with 0 Axes>"
      ]
     },
     "metadata": {},
     "output_type": "display_data"
    }
   ],
   "source": [
    "sns.countplot(x ='Default', data = df, palette = 'hls')\n",
    "plt.show()\n",
    "plt.savefig('count_plot')"
   ]
  },
  {
   "cell_type": "markdown",
   "metadata": {},
   "source": [
    "# Second, calculate and add measures."
   ]
  },
  {
   "cell_type": "code",
   "execution_count": 8,
   "metadata": {},
   "outputs": [],
   "source": [
    "detail = pd.DataFrame(df, columns = ['Account_Number','Default','Annual_Income', 'Month_On_Book', 'Age_By_2013', 'Education_Code', 'Industry_code'])"
   ]
  },
  {
   "cell_type": "code",
   "execution_count": 9,
   "metadata": {},
   "outputs": [
    {
     "name": "stdout",
     "output_type": "stream",
     "text": [
      "<class 'pandas.core.frame.DataFrame'>\n",
      "RangeIndex: 1000 entries, 0 to 999\n",
      "Data columns (total 7 columns):\n",
      " #   Column          Non-Null Count  Dtype  \n",
      "---  ------          --------------  -----  \n",
      " 0   Account_Number  1000 non-null   int64  \n",
      " 1   Default         1000 non-null   int64  \n",
      " 2   Annual_Income   1000 non-null   int64  \n",
      " 3   Month_On_Book   1000 non-null   int64  \n",
      " 4   Age_By_2013     1000 non-null   int64  \n",
      " 5   Education_Code  166 non-null    float64\n",
      " 6   Industry_code   989 non-null    float64\n",
      "dtypes: float64(2), int64(5)\n",
      "memory usage: 54.8 KB\n"
     ]
    }
   ],
   "source": [
    "detail.info()"
   ]
  },
  {
   "cell_type": "code",
   "execution_count": null,
   "metadata": {},
   "outputs": [],
   "source": []
  },
  {
   "cell_type": "markdown",
   "metadata": {},
   "source": [
    "# Bin variables follow the the most frequency level and reduce level to 2 or 3."
   ]
  },
  {
   "cell_type": "code",
   "execution_count": 10,
   "metadata": {},
   "outputs": [],
   "source": [
    "# 1 information details\n",
    "\n",
    "for col_name in detail.columns:\n",
    "    if detail[col_name].dtypes == 'object':\n",
    "        unique_cat = len(detail[col_name].unique())\n",
    "        print(\"Feature '{col_name}' has {unique_cat} unique categories\".format(col_name = col_name, unique_cat = unique_cat))"
   ]
  },
  {
   "cell_type": "code",
   "execution_count": 11,
   "metadata": {},
   "outputs": [
    {
     "name": "stdout",
     "output_type": "stream",
     "text": [
      "19.0    272\n",
      "30.0    133\n",
      "17.0    111\n",
      "5.0     103\n",
      "11.0     75\n",
      "4.0      54\n",
      "34.0     30\n",
      "12.0     28\n",
      "20.0     23\n",
      "2.0      20\n",
      "Name: Industry_code, dtype: int64\n"
     ]
    }
   ],
   "source": [
    " print(detail['Industry_code'].value_counts().sort_values(ascending = False).head(10))"
   ]
  },
  {
   "cell_type": "code",
   "execution_count": 12,
   "metadata": {},
   "outputs": [
    {
     "name": "stdout",
     "output_type": "stream",
     "text": [
      "11.0    115\n",
      "0.0      38\n",
      "10.0      6\n",
      "8.0       4\n",
      "3.0       3\n",
      "Name: Education_Code, dtype: int64\n"
     ]
    }
   ],
   "source": [
    "print(detail['Education_Code'].value_counts().sort_values(ascending = False).head(10))"
   ]
  },
  {
   "cell_type": "code",
   "execution_count": 13,
   "metadata": {},
   "outputs": [
    {
     "name": "stdout",
     "output_type": "stream",
     "text": [
      "others     885\n",
      "hanshou    115\n",
      "Name: Education_Code, dtype: int64\n"
     ]
    }
   ],
   "source": [
    "detail['Education_Code'] = ['hanshou' if detail == 11 else 'others' for detail in detail['Education_Code']]\n",
    "\n",
    "print(detail['Education_Code'].value_counts().sort_values(ascending = False))"
   ]
  },
  {
   "cell_type": "code",
   "execution_count": 14,
   "metadata": {},
   "outputs": [
    {
     "name": "stdout",
     "output_type": "stream",
     "text": [
      "other     871\n",
      "public    129\n",
      "Name: Industry_code, dtype: int64\n"
     ]
    }
   ],
   "source": [
    "detail['Industry_code'] = ['public' if detail == 4 or detail == 11 else 'other' for detail in detail['Industry_code']]\n",
    "\n",
    "print(detail['Industry_code'].value_counts().sort_values(ascending = False))"
   ]
  },
  {
   "cell_type": "code",
   "execution_count": 15,
   "metadata": {},
   "outputs": [],
   "source": [
    "detail['Annual_Income_Bins'] = pd.qcut(detail['Annual_Income'], 3, \n",
    "                                   labels=['Income_5k', 'Income_10k','Income_15k'])"
   ]
  },
  {
   "cell_type": "code",
   "execution_count": 16,
   "metadata": {},
   "outputs": [],
   "source": [
    "detail['Age_By_2013_Bins'] = pd.qcut(detail['Age_By_2013'], 3, \n",
    "                                   labels=['age_to_46', 'age_to_51','age_above51'])"
   ]
  },
  {
   "cell_type": "code",
   "execution_count": 17,
   "metadata": {},
   "outputs": [],
   "source": [
    "detail['Month_On_Book_Bins'] = pd.qcut(detail['Month_On_Book'], 2, \n",
    "                                   labels=['book_to_145','book_after_145'])"
   ]
  },
  {
   "cell_type": "code",
   "execution_count": 18,
   "metadata": {},
   "outputs": [],
   "source": [
    "da = pd.DataFrame(detail, columns = ['Account_Number','Age_By_2013_Bins','Annual_Income_Bins', 'Month_On_Book_Bins'])"
   ]
  },
  {
   "cell_type": "code",
   "execution_count": 19,
   "metadata": {},
   "outputs": [
    {
     "name": "stdout",
     "output_type": "stream",
     "text": [
      "<class 'pandas.core.frame.DataFrame'>\n",
      "RangeIndex: 1000 entries, 0 to 999\n",
      "Data columns (total 4 columns):\n",
      " #   Column              Non-Null Count  Dtype   \n",
      "---  ------              --------------  -----   \n",
      " 0   Account_Number      1000 non-null   int64   \n",
      " 1   Age_By_2013_Bins    1000 non-null   category\n",
      " 2   Annual_Income_Bins  1000 non-null   category\n",
      " 3   Month_On_Book_Bins  1000 non-null   category\n",
      "dtypes: category(3), int64(1)\n",
      "memory usage: 11.2 KB\n"
     ]
    }
   ],
   "source": [
    "da.info()"
   ]
  },
  {
   "cell_type": "code",
   "execution_count": null,
   "metadata": {},
   "outputs": [],
   "source": []
  },
  {
   "cell_type": "markdown",
   "metadata": {},
   "source": [
    "# Consider the times of overdue Last 6 months and the max overdue for last 3 months."
   ]
  },
  {
   "cell_type": "code",
   "execution_count": 20,
   "metadata": {},
   "outputs": [],
   "source": [
    "# due days analysis (1000 rows)"
   ]
  },
  {
   "cell_type": "code",
   "execution_count": 21,
   "metadata": {},
   "outputs": [],
   "source": [
    "due = pd.DataFrame(df, columns = ['Account_Number','DUE_201306','DUE_201307','DUE_201308','DUE_201309','DUE_201310','DUE_201311','DUE_201312'])"
   ]
  },
  {
   "cell_type": "code",
   "execution_count": 22,
   "metadata": {},
   "outputs": [],
   "source": [
    "col = due.loc[: , \"DUE_201306\":\"DUE_201312\"]\n",
    "due['due_count'] = (col>0).sum(axis = 1)"
   ]
  },
  {
   "cell_type": "code",
   "execution_count": 23,
   "metadata": {},
   "outputs": [],
   "source": [
    "col = due.loc[: , \"DUE_201310\":\"DUE_201312\"]\n",
    "due['max_recent'] = col.max(axis = 1)"
   ]
  },
  {
   "cell_type": "code",
   "execution_count": 24,
   "metadata": {},
   "outputs": [
    {
     "data": {
      "text/html": [
       "<div>\n",
       "<style scoped>\n",
       "    .dataframe tbody tr th:only-of-type {\n",
       "        vertical-align: middle;\n",
       "    }\n",
       "\n",
       "    .dataframe tbody tr th {\n",
       "        vertical-align: top;\n",
       "    }\n",
       "\n",
       "    .dataframe thead th {\n",
       "        text-align: right;\n",
       "    }\n",
       "</style>\n",
       "<table border=\"1\" class=\"dataframe\">\n",
       "  <thead>\n",
       "    <tr style=\"text-align: right;\">\n",
       "      <th></th>\n",
       "      <th>Account_Number</th>\n",
       "      <th>due_count</th>\n",
       "      <th>max_recent</th>\n",
       "    </tr>\n",
       "  </thead>\n",
       "  <tbody>\n",
       "    <tr>\n",
       "      <th>0</th>\n",
       "      <td>820000011</td>\n",
       "      <td>7</td>\n",
       "      <td>1</td>\n",
       "    </tr>\n",
       "    <tr>\n",
       "      <th>1</th>\n",
       "      <td>820000046</td>\n",
       "      <td>0</td>\n",
       "      <td>0</td>\n",
       "    </tr>\n",
       "    <tr>\n",
       "      <th>2</th>\n",
       "      <td>820000054</td>\n",
       "      <td>0</td>\n",
       "      <td>0</td>\n",
       "    </tr>\n",
       "    <tr>\n",
       "      <th>3</th>\n",
       "      <td>820000062</td>\n",
       "      <td>0</td>\n",
       "      <td>0</td>\n",
       "    </tr>\n",
       "    <tr>\n",
       "      <th>4</th>\n",
       "      <td>820000089</td>\n",
       "      <td>0</td>\n",
       "      <td>0</td>\n",
       "    </tr>\n",
       "    <tr>\n",
       "      <th>...</th>\n",
       "      <td>...</td>\n",
       "      <td>...</td>\n",
       "      <td>...</td>\n",
       "    </tr>\n",
       "    <tr>\n",
       "      <th>995</th>\n",
       "      <td>820361391</td>\n",
       "      <td>6</td>\n",
       "      <td>2</td>\n",
       "    </tr>\n",
       "    <tr>\n",
       "      <th>996</th>\n",
       "      <td>820363998</td>\n",
       "      <td>5</td>\n",
       "      <td>1</td>\n",
       "    </tr>\n",
       "    <tr>\n",
       "      <th>997</th>\n",
       "      <td>820365133</td>\n",
       "      <td>7</td>\n",
       "      <td>1</td>\n",
       "    </tr>\n",
       "    <tr>\n",
       "      <th>998</th>\n",
       "      <td>820372130</td>\n",
       "      <td>6</td>\n",
       "      <td>2</td>\n",
       "    </tr>\n",
       "    <tr>\n",
       "      <th>999</th>\n",
       "      <td>820376305</td>\n",
       "      <td>7</td>\n",
       "      <td>1</td>\n",
       "    </tr>\n",
       "  </tbody>\n",
       "</table>\n",
       "<p>1000 rows × 3 columns</p>\n",
       "</div>"
      ],
      "text/plain": [
       "     Account_Number  due_count  max_recent\n",
       "0         820000011          7           1\n",
       "1         820000046          0           0\n",
       "2         820000054          0           0\n",
       "3         820000062          0           0\n",
       "4         820000089          0           0\n",
       "..              ...        ...         ...\n",
       "995       820361391          6           2\n",
       "996       820363998          5           1\n",
       "997       820365133          7           1\n",
       "998       820372130          6           2\n",
       "999       820376305          7           1\n",
       "\n",
       "[1000 rows x 3 columns]"
      ]
     },
     "execution_count": 24,
     "metadata": {},
     "output_type": "execute_result"
    }
   ],
   "source": [
    "due1 = pd.DataFrame(due, columns= ['Account_Number','due_count', 'max_recent'])\n",
    "due1"
   ]
  },
  {
   "cell_type": "markdown",
   "metadata": {},
   "source": [
    "# Limit Utilization = Outstanding /Limit rate "
   ]
  },
  {
   "cell_type": "code",
   "execution_count": 25,
   "metadata": {},
   "outputs": [],
   "source": [
    "creur = pd.DataFrame(df, columns = ['Account_Number','Gender_Code','OS_201306','OS_201307','OS_201308','OS_201309','OS_201310','OS_201311','OS_201312'])"
   ]
  },
  {
   "cell_type": "code",
   "execution_count": 26,
   "metadata": {},
   "outputs": [],
   "source": [
    "creur['Limit'] = df.Limit "
   ]
  },
  {
   "cell_type": "code",
   "execution_count": 27,
   "metadata": {},
   "outputs": [],
   "source": [
    "creur = creur[creur['Limit']>0] "
   ]
  },
  {
   "cell_type": "code",
   "execution_count": 28,
   "metadata": {},
   "outputs": [],
   "source": [
    "col = creur.loc[: , \"OS_201306\":\"OS_201312\"]\n",
    "creur['ur_mean'] = col.mean(axis=1)\n",
    "creur['ur_mean'] = creur['ur_mean']/creur.Limit"
   ]
  },
  {
   "cell_type": "code",
   "execution_count": 29,
   "metadata": {},
   "outputs": [],
   "source": [
    "creur['ur_max'] = col.max(axis=1)\n",
    "creur['ur_max'] = creur['ur_max']/creur.Limit"
   ]
  },
  {
   "cell_type": "code",
   "execution_count": 30,
   "metadata": {},
   "outputs": [],
   "source": [
    "creur['ur_min'] = col.min(axis=1)\n",
    "creur['ur_min'] = creur['ur_min']/creur.Limit"
   ]
  },
  {
   "cell_type": "code",
   "execution_count": 31,
   "metadata": {},
   "outputs": [],
   "source": [
    "creur['ur_mean'] = np.where(creur.ur_mean <= 0, 0, creur.ur_mean)\n",
    "creur['ur_min'] = np.where(creur.ur_min <= 0, 0, creur.ur_min)\n",
    "creur['ur_max'] = np.where(creur.ur_max <= 0, 0, creur.ur_max)"
   ]
  },
  {
   "cell_type": "code",
   "execution_count": 32,
   "metadata": {},
   "outputs": [
    {
     "name": "stdout",
     "output_type": "stream",
     "text": [
      "     Account_Number Gender_Code  OS_201306  OS_201307  OS_201308  OS_201309  \\\n",
      "0         820000011           M    4782.88    4804.63    4889.00    4640.36   \n",
      "1         820000046           F      -7.56    3427.26     106.94     704.81   \n",
      "2         820000054           F      -0.01      -0.01      -0.01      -0.01   \n",
      "3         820000062           M      -4.72      -4.72      -4.72      -4.72   \n",
      "4         820000089           F       0.00       0.00       0.00       0.00   \n",
      "..              ...         ...        ...        ...        ...        ...   \n",
      "995       820361391           M    5981.50    6049.13    5980.09    5967.94   \n",
      "996       820363998           M    4793.98    5747.07    5786.45    5695.93   \n",
      "997       820365133           F   49810.96    7103.77    8680.90   10781.20   \n",
      "998       820372130           F    5158.27    5025.60    5127.04    5361.23   \n",
      "999       820376305           M    6039.79    6170.03    6102.76    6226.08   \n",
      "\n",
      "     OS_201310  OS_201311  OS_201312  Limit   ur_mean    ur_max    ur_min  \n",
      "0      4611.06    4866.75    4769.19   5000  0.953253  0.977800  0.922212  \n",
      "1       -98.95    4071.65     343.51   5000  0.244219  0.814330  0.000000  \n",
      "2        -0.01      -0.01      -0.01   5000  0.000000  0.000000  0.000000  \n",
      "3        -4.72      -4.72      -4.72   5000  0.000000  0.000000  0.000000  \n",
      "4         0.00       0.00       0.00   5000  0.000000  0.000000  0.000000  \n",
      "..         ...        ...        ...    ...       ...       ...       ...  \n",
      "995    6006.35    5977.72    6185.04   6000  1.003518  1.030840  0.994657  \n",
      "996    5980.07    5919.96    5926.88   6000  0.948818  0.996678  0.798997  \n",
      "997   12641.05   14481.51   16443.61  50000  0.342694  0.996219  0.142075  \n",
      "998    5184.26    5369.01    4865.33   5400  0.954781  0.994261  0.900987  \n",
      "999    6156.62    6230.38    6331.94   6300  0.980898  1.005070  0.958697  \n",
      "\n",
      "[1000 rows x 13 columns]\n"
     ]
    }
   ],
   "source": [
    "print(creur)"
   ]
  },
  {
   "cell_type": "code",
   "execution_count": 33,
   "metadata": {},
   "outputs": [],
   "source": [
    "cre = pd. DataFrame(creur, columns = ['Account_Number','Gender_Code','ur_mean', 'ur_max', 'ur_min'])"
   ]
  },
  {
   "cell_type": "code",
   "execution_count": 34,
   "metadata": {},
   "outputs": [
    {
     "data": {
      "text/html": [
       "<div>\n",
       "<style scoped>\n",
       "    .dataframe tbody tr th:only-of-type {\n",
       "        vertical-align: middle;\n",
       "    }\n",
       "\n",
       "    .dataframe tbody tr th {\n",
       "        vertical-align: top;\n",
       "    }\n",
       "\n",
       "    .dataframe thead th {\n",
       "        text-align: right;\n",
       "    }\n",
       "</style>\n",
       "<table border=\"1\" class=\"dataframe\">\n",
       "  <thead>\n",
       "    <tr style=\"text-align: right;\">\n",
       "      <th></th>\n",
       "      <th>Account_Number</th>\n",
       "      <th>ur_mean</th>\n",
       "      <th>ur_max</th>\n",
       "      <th>ur_min</th>\n",
       "    </tr>\n",
       "  </thead>\n",
       "  <tbody>\n",
       "    <tr>\n",
       "      <th>count</th>\n",
       "      <td>1.000000e+03</td>\n",
       "      <td>1000.000000</td>\n",
       "      <td>1000.000000</td>\n",
       "      <td>1000.000000</td>\n",
       "    </tr>\n",
       "    <tr>\n",
       "      <th>mean</th>\n",
       "      <td>8.200296e+08</td>\n",
       "      <td>0.383786</td>\n",
       "      <td>0.482466</td>\n",
       "      <td>0.296130</td>\n",
       "    </tr>\n",
       "    <tr>\n",
       "      <th>std</th>\n",
       "      <td>6.088140e+04</td>\n",
       "      <td>0.416238</td>\n",
       "      <td>0.455930</td>\n",
       "      <td>0.401284</td>\n",
       "    </tr>\n",
       "    <tr>\n",
       "      <th>min</th>\n",
       "      <td>8.200000e+08</td>\n",
       "      <td>0.000000</td>\n",
       "      <td>0.000000</td>\n",
       "      <td>0.000000</td>\n",
       "    </tr>\n",
       "    <tr>\n",
       "      <th>25%</th>\n",
       "      <td>8.200068e+08</td>\n",
       "      <td>0.000000</td>\n",
       "      <td>0.000000</td>\n",
       "      <td>0.000000</td>\n",
       "    </tr>\n",
       "    <tr>\n",
       "      <th>50%</th>\n",
       "      <td>8.200137e+08</td>\n",
       "      <td>0.134350</td>\n",
       "      <td>0.481572</td>\n",
       "      <td>0.000000</td>\n",
       "    </tr>\n",
       "    <tr>\n",
       "      <th>75%</th>\n",
       "      <td>8.200213e+08</td>\n",
       "      <td>0.868446</td>\n",
       "      <td>0.977880</td>\n",
       "      <td>0.766957</td>\n",
       "    </tr>\n",
       "    <tr>\n",
       "      <th>max</th>\n",
       "      <td>8.203763e+08</td>\n",
       "      <td>1.037999</td>\n",
       "      <td>1.082977</td>\n",
       "      <td>1.018140</td>\n",
       "    </tr>\n",
       "  </tbody>\n",
       "</table>\n",
       "</div>"
      ],
      "text/plain": [
       "       Account_Number      ur_mean       ur_max       ur_min\n",
       "count    1.000000e+03  1000.000000  1000.000000  1000.000000\n",
       "mean     8.200296e+08     0.383786     0.482466     0.296130\n",
       "std      6.088140e+04     0.416238     0.455930     0.401284\n",
       "min      8.200000e+08     0.000000     0.000000     0.000000\n",
       "25%      8.200068e+08     0.000000     0.000000     0.000000\n",
       "50%      8.200137e+08     0.134350     0.481572     0.000000\n",
       "75%      8.200213e+08     0.868446     0.977880     0.766957\n",
       "max      8.203763e+08     1.037999     1.082977     1.018140"
      ]
     },
     "execution_count": 34,
     "metadata": {},
     "output_type": "execute_result"
    }
   ],
   "source": [
    "cre.describe()"
   ]
  },
  {
   "cell_type": "markdown",
   "metadata": {},
   "source": [
    "# Create repayment rate varibles"
   ]
  },
  {
   "cell_type": "code",
   "execution_count": 35,
   "metadata": {},
   "outputs": [],
   "source": [
    "part = pd.DataFrame()"
   ]
  },
  {
   "cell_type": "code",
   "execution_count": 36,
   "metadata": {},
   "outputs": [
    {
     "data": {
      "text/html": [
       "<div>\n",
       "<style scoped>\n",
       "    .dataframe tbody tr th:only-of-type {\n",
       "        vertical-align: middle;\n",
       "    }\n",
       "\n",
       "    .dataframe tbody tr th {\n",
       "        vertical-align: top;\n",
       "    }\n",
       "\n",
       "    .dataframe thead th {\n",
       "        text-align: right;\n",
       "    }\n",
       "</style>\n",
       "<table border=\"1\" class=\"dataframe\">\n",
       "  <thead>\n",
       "    <tr style=\"text-align: right;\">\n",
       "      <th></th>\n",
       "      <th>Account_Number</th>\n",
       "      <th>Default</th>\n",
       "      <th>Limit</th>\n",
       "      <th>Annual_Income</th>\n",
       "      <th>Month_On_Book</th>\n",
       "      <th>Gender_Code</th>\n",
       "      <th>Age_By_2013</th>\n",
       "      <th>Education_Code</th>\n",
       "      <th>Industry_code</th>\n",
       "      <th>OS_201312</th>\n",
       "      <th>...</th>\n",
       "      <th>Payment_201309</th>\n",
       "      <th>OS_201308</th>\n",
       "      <th>DUE_201308</th>\n",
       "      <th>Payment_201308</th>\n",
       "      <th>OS_201307</th>\n",
       "      <th>DUE_201307</th>\n",
       "      <th>Payment_201307</th>\n",
       "      <th>OS_201306</th>\n",
       "      <th>DUE_201306</th>\n",
       "      <th>Payment_201306</th>\n",
       "    </tr>\n",
       "  </thead>\n",
       "  <tbody>\n",
       "    <tr>\n",
       "      <th>0</th>\n",
       "      <td>820000011</td>\n",
       "      <td>0</td>\n",
       "      <td>5000</td>\n",
       "      <td>30000</td>\n",
       "      <td>147</td>\n",
       "      <td>M</td>\n",
       "      <td>39</td>\n",
       "      <td>NaN</td>\n",
       "      <td>4.0</td>\n",
       "      <td>4769.19</td>\n",
       "      <td>...</td>\n",
       "      <td>700.00</td>\n",
       "      <td>4889.00</td>\n",
       "      <td>1</td>\n",
       "      <td>200.00</td>\n",
       "      <td>4804.63</td>\n",
       "      <td>1</td>\n",
       "      <td>240.00</td>\n",
       "      <td>4782.88</td>\n",
       "      <td>1</td>\n",
       "      <td>405.00</td>\n",
       "    </tr>\n",
       "    <tr>\n",
       "      <th>1</th>\n",
       "      <td>820000046</td>\n",
       "      <td>0</td>\n",
       "      <td>5000</td>\n",
       "      <td>30000</td>\n",
       "      <td>147</td>\n",
       "      <td>F</td>\n",
       "      <td>59</td>\n",
       "      <td>NaN</td>\n",
       "      <td>4.0</td>\n",
       "      <td>343.51</td>\n",
       "      <td>...</td>\n",
       "      <td>300.00</td>\n",
       "      <td>106.94</td>\n",
       "      <td>0</td>\n",
       "      <td>1820.00</td>\n",
       "      <td>3427.26</td>\n",
       "      <td>0</td>\n",
       "      <td>1300.00</td>\n",
       "      <td>-7.56</td>\n",
       "      <td>0</td>\n",
       "      <td>1000.00</td>\n",
       "    </tr>\n",
       "    <tr>\n",
       "      <th>2</th>\n",
       "      <td>820000054</td>\n",
       "      <td>0</td>\n",
       "      <td>5000</td>\n",
       "      <td>30000</td>\n",
       "      <td>147</td>\n",
       "      <td>F</td>\n",
       "      <td>36</td>\n",
       "      <td>NaN</td>\n",
       "      <td>4.0</td>\n",
       "      <td>-0.01</td>\n",
       "      <td>...</td>\n",
       "      <td>321.45</td>\n",
       "      <td>-0.01</td>\n",
       "      <td>0</td>\n",
       "      <td>321.45</td>\n",
       "      <td>-0.01</td>\n",
       "      <td>0</td>\n",
       "      <td>321.45</td>\n",
       "      <td>-0.01</td>\n",
       "      <td>0</td>\n",
       "      <td>321.45</td>\n",
       "    </tr>\n",
       "    <tr>\n",
       "      <th>3</th>\n",
       "      <td>820000062</td>\n",
       "      <td>0</td>\n",
       "      <td>5000</td>\n",
       "      <td>30000</td>\n",
       "      <td>147</td>\n",
       "      <td>M</td>\n",
       "      <td>38</td>\n",
       "      <td>NaN</td>\n",
       "      <td>4.0</td>\n",
       "      <td>-4.72</td>\n",
       "      <td>...</td>\n",
       "      <td>860.00</td>\n",
       "      <td>-4.72</td>\n",
       "      <td>0</td>\n",
       "      <td>860.00</td>\n",
       "      <td>-4.72</td>\n",
       "      <td>0</td>\n",
       "      <td>860.00</td>\n",
       "      <td>-4.72</td>\n",
       "      <td>0</td>\n",
       "      <td>860.00</td>\n",
       "    </tr>\n",
       "    <tr>\n",
       "      <th>4</th>\n",
       "      <td>820000089</td>\n",
       "      <td>0</td>\n",
       "      <td>5000</td>\n",
       "      <td>30000</td>\n",
       "      <td>147</td>\n",
       "      <td>F</td>\n",
       "      <td>57</td>\n",
       "      <td>NaN</td>\n",
       "      <td>4.0</td>\n",
       "      <td>0.00</td>\n",
       "      <td>...</td>\n",
       "      <td>4.05</td>\n",
       "      <td>0.00</td>\n",
       "      <td>0</td>\n",
       "      <td>4.05</td>\n",
       "      <td>0.00</td>\n",
       "      <td>0</td>\n",
       "      <td>4.05</td>\n",
       "      <td>0.00</td>\n",
       "      <td>0</td>\n",
       "      <td>4.05</td>\n",
       "    </tr>\n",
       "  </tbody>\n",
       "</table>\n",
       "<p>5 rows × 30 columns</p>\n",
       "</div>"
      ],
      "text/plain": [
       "   Account_Number  Default  Limit  Annual_Income  Month_On_Book Gender_Code  \\\n",
       "0       820000011        0   5000          30000            147           M   \n",
       "1       820000046        0   5000          30000            147           F   \n",
       "2       820000054        0   5000          30000            147           F   \n",
       "3       820000062        0   5000          30000            147           M   \n",
       "4       820000089        0   5000          30000            147           F   \n",
       "\n",
       "   Age_By_2013  Education_Code  Industry_code  OS_201312  ...  Payment_201309  \\\n",
       "0           39             NaN            4.0    4769.19  ...          700.00   \n",
       "1           59             NaN            4.0     343.51  ...          300.00   \n",
       "2           36             NaN            4.0      -0.01  ...          321.45   \n",
       "3           38             NaN            4.0      -4.72  ...          860.00   \n",
       "4           57             NaN            4.0       0.00  ...            4.05   \n",
       "\n",
       "   OS_201308  DUE_201308  Payment_201308  OS_201307  DUE_201307  \\\n",
       "0    4889.00           1          200.00    4804.63           1   \n",
       "1     106.94           0         1820.00    3427.26           0   \n",
       "2      -0.01           0          321.45      -0.01           0   \n",
       "3      -4.72           0          860.00      -4.72           0   \n",
       "4       0.00           0            4.05       0.00           0   \n",
       "\n",
       "   Payment_201307  OS_201306  DUE_201306  Payment_201306  \n",
       "0          240.00    4782.88           1          405.00  \n",
       "1         1300.00      -7.56           0         1000.00  \n",
       "2          321.45      -0.01           0          321.45  \n",
       "3          860.00      -4.72           0          860.00  \n",
       "4            4.05       0.00           0            4.05  \n",
       "\n",
       "[5 rows x 30 columns]"
      ]
     },
     "execution_count": 36,
     "metadata": {},
     "output_type": "execute_result"
    }
   ],
   "source": [
    "df.head(5)"
   ]
  },
  {
   "cell_type": "code",
   "execution_count": 37,
   "metadata": {},
   "outputs": [],
   "source": [
    "part= pd.DataFrame()\n",
    "part['Account_Number'] = df.Account_Number"
   ]
  },
  {
   "cell_type": "code",
   "execution_count": 38,
   "metadata": {},
   "outputs": [],
   "source": [
    "part['OS_201306'] = np.where(df.OS_201306 <= 0, df.Payment_201306, df.OS_201306 )\n",
    "part['OS_201307'] = np.where(df.OS_201307 <= 0, df.Payment_201307, df.OS_201307 )\n",
    "part['OS_201308'] = np.where(df.OS_201308 <= 0, df.Payment_201308, df.OS_201308 )\n",
    "part['OS_201309'] = np.where(df.OS_201309 <= 0, df.Payment_201309, df.OS_201309 )\n",
    "part['OS_201310'] = np.where(df.OS_201310 <= 0, df.Payment_201310, df.OS_201310 )\n",
    "part['OS_201311'] = np.where(df.OS_201311 <= 0, df.Payment_201311, df.OS_201311 )\n",
    "part['OS_201312'] = np.where(df.OS_201312 <= 0, df.Payment_201312, df.OS_201312 )"
   ]
  },
  {
   "cell_type": "code",
   "execution_count": 39,
   "metadata": {},
   "outputs": [],
   "source": [
    "part['payradio06'] = df.Payment_201306 / part.OS_201306\n",
    "part['payradio07'] = df.Payment_201307 / part.OS_201307\n",
    "part['payradio08'] = df.Payment_201308 / part.OS_201308\n",
    "part['payradio09'] = df.Payment_201309 / part.OS_201309\n",
    "part['payradio10'] = df.Payment_201310 / part.OS_201310\n",
    "part['payradio11'] = df.Payment_201311 / part.OS_201312\n",
    "part['payradio12'] = df.Payment_201312 / part.OS_201312"
   ]
  },
  {
   "cell_type": "code",
   "execution_count": 40,
   "metadata": {},
   "outputs": [
    {
     "name": "stdout",
     "output_type": "stream",
     "text": [
      "     Account_Number  OS_201306  OS_201307  OS_201308  OS_201309  OS_201310  \\\n",
      "0         820000011    4782.88    4804.63    4889.00    4640.36    4611.06   \n",
      "1         820000046    1000.00    3427.26     106.94     704.81     600.00   \n",
      "2         820000054     321.45     321.45     321.45     321.45     321.45   \n",
      "3         820000062     860.00     860.00     860.00     860.00     860.00   \n",
      "4         820000089       4.05       4.05       4.05       4.05       4.05   \n",
      "..              ...        ...        ...        ...        ...        ...   \n",
      "995       820361391    5981.50    6049.13    5980.09    5967.94    6006.35   \n",
      "996       820363998    4793.98    5747.07    5786.45    5695.93    5980.07   \n",
      "997       820365133   49810.96    7103.77    8680.90   10781.20   12641.05   \n",
      "998       820372130    5158.27    5025.60    5127.04    5361.23    5184.26   \n",
      "999       820376305    6039.79    6170.03    6102.76    6226.08    6156.62   \n",
      "\n",
      "     OS_201311  OS_201312  payradio06  payradio07  payradio08  payradio09  \\\n",
      "0      4866.75    4769.19    0.084677    0.049952    0.040908    0.150850   \n",
      "1      4071.65     343.51    1.000000    0.379312   17.018889    0.425647   \n",
      "2       321.45     321.45    1.000000    1.000000    1.000000    1.000000   \n",
      "3       860.00     860.00    1.000000    1.000000    1.000000    1.000000   \n",
      "4         4.05       4.05    1.000000    1.000000    1.000000    1.000000   \n",
      "..         ...        ...         ...         ...         ...         ...   \n",
      "995    5977.72    6185.04    0.066873    0.033063    0.070233    0.016756   \n",
      "996    5919.96    5926.88    0.010430    0.078301    0.086409    0.087782   \n",
      "997   14481.51   16443.61    0.010038    0.028154    0.057598    0.018551   \n",
      "998    5369.01    4865.33    0.029080    0.062613    0.061375    0.058694   \n",
      "999    6230.38    6331.94    0.026491    0.025932    0.026218    0.025698   \n",
      "\n",
      "     payradio10  payradio11  payradio12  \n",
      "0      0.093254    0.041936    0.062904  \n",
      "1      1.000000    0.582225    7.277809  \n",
      "2      1.000000    1.000000    1.000000  \n",
      "3      1.000000    1.000000    1.000000  \n",
      "4      1.000000    1.000000    1.000000  \n",
      "..          ...         ...         ...  \n",
      "995    0.033298    0.064672    0.064672  \n",
      "996    0.083611    0.025308    0.042181  \n",
      "997    0.021322    0.019460    0.015812  \n",
      "998    0.054010    0.057550    0.041107  \n",
      "999    0.025988    0.025269    0.025269  \n",
      "\n",
      "[1000 rows x 15 columns]\n"
     ]
    }
   ],
   "source": [
    "print(part)"
   ]
  },
  {
   "cell_type": "code",
   "execution_count": 41,
   "metadata": {},
   "outputs": [
    {
     "data": {
      "text/html": [
       "<div>\n",
       "<style scoped>\n",
       "    .dataframe tbody tr th:only-of-type {\n",
       "        vertical-align: middle;\n",
       "    }\n",
       "\n",
       "    .dataframe tbody tr th {\n",
       "        vertical-align: top;\n",
       "    }\n",
       "\n",
       "    .dataframe thead th {\n",
       "        text-align: right;\n",
       "    }\n",
       "</style>\n",
       "<table border=\"1\" class=\"dataframe\">\n",
       "  <thead>\n",
       "    <tr style=\"text-align: right;\">\n",
       "      <th></th>\n",
       "      <th>Account_Number</th>\n",
       "      <th>payradio_max</th>\n",
       "      <th>payradio_min</th>\n",
       "      <th>payradio_mean</th>\n",
       "    </tr>\n",
       "  </thead>\n",
       "  <tbody>\n",
       "    <tr>\n",
       "      <th>0</th>\n",
       "      <td>820000011</td>\n",
       "      <td>0.150850</td>\n",
       "      <td>0.040908</td>\n",
       "      <td>0.074926</td>\n",
       "    </tr>\n",
       "    <tr>\n",
       "      <th>1</th>\n",
       "      <td>820000046</td>\n",
       "      <td>17.018889</td>\n",
       "      <td>0.379312</td>\n",
       "      <td>3.954840</td>\n",
       "    </tr>\n",
       "    <tr>\n",
       "      <th>2</th>\n",
       "      <td>820000054</td>\n",
       "      <td>1.000000</td>\n",
       "      <td>1.000000</td>\n",
       "      <td>1.000000</td>\n",
       "    </tr>\n",
       "    <tr>\n",
       "      <th>3</th>\n",
       "      <td>820000062</td>\n",
       "      <td>1.000000</td>\n",
       "      <td>1.000000</td>\n",
       "      <td>1.000000</td>\n",
       "    </tr>\n",
       "    <tr>\n",
       "      <th>4</th>\n",
       "      <td>820000089</td>\n",
       "      <td>1.000000</td>\n",
       "      <td>1.000000</td>\n",
       "      <td>1.000000</td>\n",
       "    </tr>\n",
       "    <tr>\n",
       "      <th>...</th>\n",
       "      <td>...</td>\n",
       "      <td>...</td>\n",
       "      <td>...</td>\n",
       "      <td>...</td>\n",
       "    </tr>\n",
       "    <tr>\n",
       "      <th>995</th>\n",
       "      <td>820361391</td>\n",
       "      <td>0.070233</td>\n",
       "      <td>0.016756</td>\n",
       "      <td>0.049938</td>\n",
       "    </tr>\n",
       "    <tr>\n",
       "      <th>996</th>\n",
       "      <td>820363998</td>\n",
       "      <td>0.087782</td>\n",
       "      <td>0.010430</td>\n",
       "      <td>0.059146</td>\n",
       "    </tr>\n",
       "    <tr>\n",
       "      <th>997</th>\n",
       "      <td>820365133</td>\n",
       "      <td>0.057598</td>\n",
       "      <td>0.010038</td>\n",
       "      <td>0.024419</td>\n",
       "    </tr>\n",
       "    <tr>\n",
       "      <th>998</th>\n",
       "      <td>820372130</td>\n",
       "      <td>0.062613</td>\n",
       "      <td>0.029080</td>\n",
       "      <td>0.052061</td>\n",
       "    </tr>\n",
       "    <tr>\n",
       "      <th>999</th>\n",
       "      <td>820376305</td>\n",
       "      <td>0.026491</td>\n",
       "      <td>0.025269</td>\n",
       "      <td>0.025838</td>\n",
       "    </tr>\n",
       "  </tbody>\n",
       "</table>\n",
       "<p>1000 rows × 4 columns</p>\n",
       "</div>"
      ],
      "text/plain": [
       "     Account_Number  payradio_max  payradio_min  payradio_mean\n",
       "0         820000011      0.150850      0.040908       0.074926\n",
       "1         820000046     17.018889      0.379312       3.954840\n",
       "2         820000054      1.000000      1.000000       1.000000\n",
       "3         820000062      1.000000      1.000000       1.000000\n",
       "4         820000089      1.000000      1.000000       1.000000\n",
       "..              ...           ...           ...            ...\n",
       "995       820361391      0.070233      0.016756       0.049938\n",
       "996       820363998      0.087782      0.010430       0.059146\n",
       "997       820365133      0.057598      0.010038       0.024419\n",
       "998       820372130      0.062613      0.029080       0.052061\n",
       "999       820376305      0.026491      0.025269       0.025838\n",
       "\n",
       "[1000 rows x 4 columns]"
      ]
     },
     "execution_count": 41,
     "metadata": {},
     "output_type": "execute_result"
    }
   ],
   "source": [
    "col = part.loc[: , \"payradio06\":\"payradio12\"]\n",
    "part['payradio_max'] = col.max(axis=1)\n",
    "part['payradio_min'] = col.min(axis=1)\n",
    "part['payradio_mean'] = col.mean(axis=1)\n",
    "part['Account_Number'] = df.Account_Number\n",
    "part = pd.DataFrame(part, columns = ['Account_Number','payradio_max','payradio_min', 'payradio_mean'])\n",
    "part"
   ]
  },
  {
   "cell_type": "markdown",
   "metadata": {},
   "source": [
    "# Merge dataset"
   ]
  },
  {
   "cell_type": "code",
   "execution_count": 42,
   "metadata": {},
   "outputs": [
    {
     "name": "stdout",
     "output_type": "stream",
     "text": [
      "<class 'pandas.core.frame.DataFrame'>\n",
      "Int64Index: 1000 entries, 0 to 999\n",
      "Data columns (total 6 columns):\n",
      " #   Column              Non-Null Count  Dtype   \n",
      "---  ------              --------------  -----   \n",
      " 0   Account_Number      1000 non-null   int64   \n",
      " 1   Age_By_2013_Bins    1000 non-null   category\n",
      " 2   Annual_Income_Bins  1000 non-null   category\n",
      " 3   Month_On_Book_Bins  1000 non-null   category\n",
      " 4   due_count           1000 non-null   int64   \n",
      " 5   max_recent          1000 non-null   int64   \n",
      "dtypes: category(3), int64(3)\n",
      "memory usage: 34.5 KB\n"
     ]
    }
   ],
   "source": [
    "cr = pd.merge(da, due1, on='Account_Number', how='outer')\n",
    "cr.info()\n"
   ]
  },
  {
   "cell_type": "code",
   "execution_count": 43,
   "metadata": {},
   "outputs": [
    {
     "name": "stdout",
     "output_type": "stream",
     "text": [
      "     Account_Number Age_By_2013_Bins Annual_Income_Bins Month_On_Book_Bins  \\\n",
      "0         820000011        age_to_46          Income_5k     book_after_145   \n",
      "1         820000046      age_above51          Income_5k     book_after_145   \n",
      "2         820000054        age_to_46          Income_5k     book_after_145   \n",
      "3         820000062        age_to_46          Income_5k     book_after_145   \n",
      "4         820000089      age_above51          Income_5k     book_after_145   \n",
      "..              ...              ...                ...                ...   \n",
      "995       820361391        age_to_46         Income_10k        book_to_145   \n",
      "996       820363998      age_above51         Income_10k        book_to_145   \n",
      "997       820365133        age_to_51         Income_15k        book_to_145   \n",
      "998       820372130      age_above51          Income_5k        book_to_145   \n",
      "999       820376305      age_above51          Income_5k        book_to_145   \n",
      "\n",
      "     due_count  max_recent Gender_Code   ur_mean    ur_max    ur_min  \n",
      "0            7           1           M  0.953253  0.977800  0.922212  \n",
      "1            0           0           F  0.244219  0.814330  0.000000  \n",
      "2            0           0           F  0.000000  0.000000  0.000000  \n",
      "3            0           0           M  0.000000  0.000000  0.000000  \n",
      "4            0           0           F  0.000000  0.000000  0.000000  \n",
      "..         ...         ...         ...       ...       ...       ...  \n",
      "995          6           2           M  1.003518  1.030840  0.994657  \n",
      "996          5           1           M  0.948818  0.996678  0.798997  \n",
      "997          7           1           F  0.342694  0.996219  0.142075  \n",
      "998          6           2           F  0.954781  0.994261  0.900987  \n",
      "999          7           1           M  0.980898  1.005070  0.958697  \n",
      "\n",
      "[1000 rows x 10 columns]\n"
     ]
    }
   ],
   "source": [
    "cred = pd.merge(cr, cre, on='Account_Number', how='outer')\n",
    "print(cred)\n"
   ]
  },
  {
   "cell_type": "code",
   "execution_count": 44,
   "metadata": {},
   "outputs": [
    {
     "name": "stdout",
     "output_type": "stream",
     "text": [
      "     Account_Number Age_By_2013_Bins Annual_Income_Bins Month_On_Book_Bins  \\\n",
      "0         820000011        age_to_46          Income_5k     book_after_145   \n",
      "1         820000046      age_above51          Income_5k     book_after_145   \n",
      "2         820000054        age_to_46          Income_5k     book_after_145   \n",
      "3         820000062        age_to_46          Income_5k     book_after_145   \n",
      "4         820000089      age_above51          Income_5k     book_after_145   \n",
      "..              ...              ...                ...                ...   \n",
      "995       820361391        age_to_46         Income_10k        book_to_145   \n",
      "996       820363998      age_above51         Income_10k        book_to_145   \n",
      "997       820365133        age_to_51         Income_15k        book_to_145   \n",
      "998       820372130      age_above51          Income_5k        book_to_145   \n",
      "999       820376305      age_above51          Income_5k        book_to_145   \n",
      "\n",
      "     due_count  max_recent Gender_Code   ur_mean    ur_max    ur_min  \\\n",
      "0            7           1           M  0.953253  0.977800  0.922212   \n",
      "1            0           0           F  0.244219  0.814330  0.000000   \n",
      "2            0           0           F  0.000000  0.000000  0.000000   \n",
      "3            0           0           M  0.000000  0.000000  0.000000   \n",
      "4            0           0           F  0.000000  0.000000  0.000000   \n",
      "..         ...         ...         ...       ...       ...       ...   \n",
      "995          6           2           M  1.003518  1.030840  0.994657   \n",
      "996          5           1           M  0.948818  0.996678  0.798997   \n",
      "997          7           1           F  0.342694  0.996219  0.142075   \n",
      "998          6           2           F  0.954781  0.994261  0.900987   \n",
      "999          7           1           M  0.980898  1.005070  0.958697   \n",
      "\n",
      "     payradio_max  payradio_min  payradio_mean  \n",
      "0        0.150850      0.040908       0.074926  \n",
      "1       17.018889      0.379312       3.954840  \n",
      "2        1.000000      1.000000       1.000000  \n",
      "3        1.000000      1.000000       1.000000  \n",
      "4        1.000000      1.000000       1.000000  \n",
      "..            ...           ...            ...  \n",
      "995      0.070233      0.016756       0.049938  \n",
      "996      0.087782      0.010430       0.059146  \n",
      "997      0.057598      0.010038       0.024419  \n",
      "998      0.062613      0.029080       0.052061  \n",
      "999      0.026491      0.025269       0.025838  \n",
      "\n",
      "[1000 rows x 13 columns]\n"
     ]
    }
   ],
   "source": [
    "c = pd.merge(cred, part, on='Account_Number', how='outer')\n",
    "print(c)"
   ]
  },
  {
   "cell_type": "markdown",
   "metadata": {},
   "source": [
    "# Until now, we get dataset 'c' for 1000 rows"
   ]
  },
  {
   "cell_type": "code",
   "execution_count": 45,
   "metadata": {},
   "outputs": [],
   "source": [
    "c = pd.get_dummies(c, columns=['Age_By_2013_Bins'])\n",
    "c = pd.get_dummies(c, columns=['Annual_Income_Bins'])\n",
    "c = pd.get_dummies(c, columns=['Month_On_Book_Bins'])\n",
    "c = pd.get_dummies(c, columns=['Gender_Code'])\n"
   ]
  },
  {
   "cell_type": "code",
   "execution_count": 46,
   "metadata": {},
   "outputs": [],
   "source": [
    "x = c\n",
    "y = detail.Default"
   ]
  },
  {
   "cell_type": "code",
   "execution_count": 47,
   "metadata": {},
   "outputs": [
    {
     "name": "stdout",
     "output_type": "stream",
     "text": [
      "<class 'pandas.core.frame.DataFrame'>\n",
      "Int64Index: 1000 entries, 0 to 999\n",
      "Data columns (total 19 columns):\n",
      " #   Column                             Non-Null Count  Dtype  \n",
      "---  ------                             --------------  -----  \n",
      " 0   Account_Number                     1000 non-null   int64  \n",
      " 1   due_count                          1000 non-null   int64  \n",
      " 2   max_recent                         1000 non-null   int64  \n",
      " 3   ur_mean                            1000 non-null   float64\n",
      " 4   ur_max                             1000 non-null   float64\n",
      " 5   ur_min                             1000 non-null   float64\n",
      " 6   payradio_max                       988 non-null    float64\n",
      " 7   payradio_min                       988 non-null    float64\n",
      " 8   payradio_mean                      988 non-null    float64\n",
      " 9   Age_By_2013_Bins_age_to_46         1000 non-null   uint8  \n",
      " 10  Age_By_2013_Bins_age_to_51         1000 non-null   uint8  \n",
      " 11  Age_By_2013_Bins_age_above51       1000 non-null   uint8  \n",
      " 12  Annual_Income_Bins_Income_5k       1000 non-null   uint8  \n",
      " 13  Annual_Income_Bins_Income_10k      1000 non-null   uint8  \n",
      " 14  Annual_Income_Bins_Income_15k      1000 non-null   uint8  \n",
      " 15  Month_On_Book_Bins_book_to_145     1000 non-null   uint8  \n",
      " 16  Month_On_Book_Bins_book_after_145  1000 non-null   uint8  \n",
      " 17  Gender_Code_F                      1000 non-null   uint8  \n",
      " 18  Gender_Code_M                      1000 non-null   uint8  \n",
      "dtypes: float64(6), int64(3), uint8(10)\n",
      "memory usage: 87.9 KB\n"
     ]
    }
   ],
   "source": [
    "c.info()"
   ]
  },
  {
   "cell_type": "code",
   "execution_count": 48,
   "metadata": {},
   "outputs": [
    {
     "data": {
      "text/plain": [
       "True"
      ]
     },
     "execution_count": 48,
     "metadata": {},
     "output_type": "execute_result"
    }
   ],
   "source": [
    "np.any(np.isnan(c))"
   ]
  },
  {
   "cell_type": "code",
   "execution_count": 49,
   "metadata": {},
   "outputs": [
    {
     "data": {
      "text/plain": [
       "False"
      ]
     },
     "execution_count": 49,
     "metadata": {},
     "output_type": "execute_result"
    }
   ],
   "source": [
    "np.all(np.isfinite(c))"
   ]
  },
  {
   "cell_type": "code",
   "execution_count": 69,
   "metadata": {},
   "outputs": [],
   "source": [
    "c = c.replace(np.nan, 0)"
   ]
  },
  {
   "cell_type": "code",
   "execution_count": 70,
   "metadata": {},
   "outputs": [],
   "source": [
    "import sklearn\n",
    "from sklearn import linear_model as lm"
   ]
  },
  {
   "cell_type": "markdown",
   "metadata": {},
   "source": [
    "# Establish the corresponding model"
   ]
  },
  {
   "cell_type": "markdown",
   "metadata": {},
   "source": [
    "# 1) GLM model for first dataset 'c'"
   ]
  },
  {
   "cell_type": "code",
   "execution_count": 71,
   "metadata": {
    "scrolled": false
   },
   "outputs": [
    {
     "name": "stdout",
     "output_type": "stream",
     "text": [
      "####### Linear Regression Model ########\n",
      "Intercept:  -3135.966923814476\n",
      "Coefficient:  [ 3.82425202e-06 -2.74179131e-03  3.95180303e-02  6.27449644e-02\n",
      "  8.05027071e-03  3.81828785e-02 -3.86052717e-05  2.52687033e-02\n",
      "  6.12037251e-05  7.47878469e-03  9.43356359e-03 -1.69123483e-02\n",
      "  4.54528086e-03  1.94841758e-03 -6.49369845e-03 -1.25920359e-02\n",
      "  1.25920359e-02 -8.37147792e-03  8.37147792e-03]\n",
      "\n",
      "####### Logistic regression Model ########\n",
      "                 Generalized Linear Model Regression Results                  \n",
      "==============================================================================\n",
      "Dep. Variable:                      y   No. Observations:                 1000\n",
      "Model:                            GLM   Df Residuals:                      985\n",
      "Model Family:                Binomial   Df Model:                           14\n",
      "Link Function:                  logit   Scale:                          1.0000\n",
      "Method:                          IRLS   Log-Likelihood:                    nan\n",
      "Date:                Mon, 01 Jun 2020   Deviance:                          nan\n",
      "Time:                        16:44:03   Pearson chi2:                 5.85e+17\n",
      "No. Iterations:                   100   Covariance Type:             nonrobust\n",
      "=====================================================================================================\n",
      "                                        coef    std err          z      P>|z|      [0.025      0.975]\n",
      "-----------------------------------------------------------------------------------------------------\n",
      "Account_Number                        0.0004   9.41e-05      3.888      0.000       0.000       0.001\n",
      "due_count                            -0.6430      0.467     -1.376      0.169      -1.559       0.273\n",
      "max_recent                            2.7310      1.190      2.294      0.022       0.398       5.064\n",
      "ur_mean                               3.6567      7.411      0.493      0.622     -10.869      18.182\n",
      "ur_max                                1.9319      4.475      0.432      0.666      -6.838      10.702\n",
      "ur_min                               -1.6685      3.516     -0.475      0.635      -8.560       5.223\n",
      "payradio_max                         -0.2698      0.863     -0.313      0.755      -1.962       1.422\n",
      "payradio_min                         -9.6080     14.846     -0.647      0.518     -38.706      19.490\n",
      "payradio_mean                         0.8924      3.035      0.294      0.769      -5.056       6.840\n",
      "Age_By_2013_Bins_age_to_46        -3.157e+04   8119.649     -3.888      0.000   -4.75e+04   -1.57e+04\n",
      "Age_By_2013_Bins_age_to_51        -3.157e+04   8119.599     -3.888      0.000   -4.75e+04   -1.57e+04\n",
      "Age_By_2013_Bins_age_above51      -3.157e+04   8120.415     -3.888      0.000   -4.75e+04   -1.57e+04\n",
      "Annual_Income_Bins_Income_5k      -3.157e+04   8119.804     -3.888      0.000   -4.75e+04   -1.57e+04\n",
      "Annual_Income_Bins_Income_10k     -3.157e+04   8119.781     -3.888      0.000   -4.75e+04   -1.57e+04\n",
      "Annual_Income_Bins_Income_15k     -3.157e+04   8120.079     -3.888      0.000   -4.75e+04   -1.57e+04\n",
      "Month_On_Book_Bins_book_to_145    -9.472e+04   2.44e+04     -3.888      0.000   -1.42e+05    -4.7e+04\n",
      "Month_On_Book_Bins_book_after_145     5.1369      1.321      3.888      0.000       2.547       7.726\n",
      "Gender_Code_F                     -4.736e+04   1.22e+04     -3.888      0.000   -7.12e+04   -2.35e+04\n",
      "Gender_Code_M                     -4.735e+04   1.22e+04     -3.888      0.000   -7.12e+04   -2.35e+04\n",
      "const                             -9.471e+04   2.44e+04     -3.888      0.000   -1.42e+05    -4.7e+04\n",
      "=====================================================================================================\n"
     ]
    }
   ],
   "source": [
    "#  Generalized Linear Model \n",
    "\n",
    "print('####### Linear Regression Model ########')\n",
    "# Create linear regression object\n",
    "lr = lm.LinearRegression()\n",
    "\n",
    "x= c.iloc[:, :] # independent variable\n",
    "y= list(y)         # dependent variable \n",
    "\n",
    "# Train the model using the training sets\n",
    "lr.fit(x, y)\n",
    "\n",
    "print (\"Intercept: \", lr.intercept_)\n",
    "print (\"Coefficient: \", lr.coef_)\n",
    "\n",
    "print('\\n####### Logistic regression Model ########')\n",
    "import statsmodels.api as sm\n",
    "\n",
    "# To be able to run GLM, we'll have to add the intercept constant to x variable\n",
    "x = sm.add_constant(x, prepend=False)\n",
    "\n",
    "# Instantiate a gaussian family model with the default link function.\n",
    "model = sm.GLM(y, x, family = sm.families.Binomial())\n",
    "model = model.fit()\n",
    "print (model.summary())\n"
   ]
  },
  {
   "cell_type": "markdown",
   "metadata": {},
   "source": [
    "# GLM Model explain:\n",
    "# p-value shows max_recent , age, annual income, month in bank, gender are statistically significant.\n",
    "# log(odds) ratio for max(credit in recent 3 months) =  2.4247\n",
    "# log(odds) ratio for months in books> 145) = 4.3949\n",
    "# Notice Log-likelihood is nan: it should be some log0 situation, we need to set the minmum predict value like 1e-10 should fix the problem."
   ]
  },
  {
   "cell_type": "markdown",
   "metadata": {},
   "source": [
    "# 2 Multiple Logistic Regression "
   ]
  },
  {
   "cell_type": "code",
   "execution_count": 72,
   "metadata": {},
   "outputs": [],
   "source": [
    "# Nomalized Dataset\n",
    "\n",
    "from sklearn.preprocessing import StandardScaler\n",
    "sc = StandardScaler()\n",
    "sc.fit(c)\n",
    "X = sc.transform(c)"
   ]
  },
  {
   "cell_type": "code",
   "execution_count": 73,
   "metadata": {},
   "outputs": [
    {
     "data": {
      "text/html": [
       "<div>\n",
       "<style scoped>\n",
       "    .dataframe tbody tr th:only-of-type {\n",
       "        vertical-align: middle;\n",
       "    }\n",
       "\n",
       "    .dataframe tbody tr th {\n",
       "        vertical-align: top;\n",
       "    }\n",
       "\n",
       "    .dataframe thead th {\n",
       "        text-align: right;\n",
       "    }\n",
       "</style>\n",
       "<table border=\"1\" class=\"dataframe\">\n",
       "  <thead>\n",
       "    <tr style=\"text-align: right;\">\n",
       "      <th></th>\n",
       "      <th>Account_Number</th>\n",
       "      <th>Default</th>\n",
       "    </tr>\n",
       "  </thead>\n",
       "  <tbody>\n",
       "    <tr>\n",
       "      <th>0</th>\n",
       "      <td>820000011</td>\n",
       "      <td>0</td>\n",
       "    </tr>\n",
       "    <tr>\n",
       "      <th>1</th>\n",
       "      <td>820000046</td>\n",
       "      <td>0</td>\n",
       "    </tr>\n",
       "    <tr>\n",
       "      <th>2</th>\n",
       "      <td>820000054</td>\n",
       "      <td>0</td>\n",
       "    </tr>\n",
       "    <tr>\n",
       "      <th>3</th>\n",
       "      <td>820000062</td>\n",
       "      <td>0</td>\n",
       "    </tr>\n",
       "    <tr>\n",
       "      <th>4</th>\n",
       "      <td>820000089</td>\n",
       "      <td>0</td>\n",
       "    </tr>\n",
       "    <tr>\n",
       "      <th>...</th>\n",
       "      <td>...</td>\n",
       "      <td>...</td>\n",
       "    </tr>\n",
       "    <tr>\n",
       "      <th>995</th>\n",
       "      <td>820361391</td>\n",
       "      <td>1</td>\n",
       "    </tr>\n",
       "    <tr>\n",
       "      <th>996</th>\n",
       "      <td>820363998</td>\n",
       "      <td>1</td>\n",
       "    </tr>\n",
       "    <tr>\n",
       "      <th>997</th>\n",
       "      <td>820365133</td>\n",
       "      <td>1</td>\n",
       "    </tr>\n",
       "    <tr>\n",
       "      <th>998</th>\n",
       "      <td>820372130</td>\n",
       "      <td>1</td>\n",
       "    </tr>\n",
       "    <tr>\n",
       "      <th>999</th>\n",
       "      <td>820376305</td>\n",
       "      <td>1</td>\n",
       "    </tr>\n",
       "  </tbody>\n",
       "</table>\n",
       "<p>1000 rows × 2 columns</p>\n",
       "</div>"
      ],
      "text/plain": [
       "     Account_Number  Default\n",
       "0         820000011        0\n",
       "1         820000046        0\n",
       "2         820000054        0\n",
       "3         820000062        0\n",
       "4         820000089        0\n",
       "..              ...      ...\n",
       "995       820361391        1\n",
       "996       820363998        1\n",
       "997       820365133        1\n",
       "998       820372130        1\n",
       "999       820376305        1\n",
       "\n",
       "[1000 rows x 2 columns]"
      ]
     },
     "execution_count": 73,
     "metadata": {},
     "output_type": "execute_result"
    }
   ],
   "source": [
    "y_g = pd.DataFrame(df, columns = ['Account_Number','Default'])\n",
    "y_g"
   ]
  },
  {
   "cell_type": "code",
   "execution_count": 74,
   "metadata": {},
   "outputs": [],
   "source": [
    "# split data into train and test\n",
    "from sklearn.model_selection import train_test_split \n",
    "X_train, X_test, y_train, y_test = train_test_split(c, y_g.Default, test_size=0.3, random_state=0)"
   ]
  },
  {
   "cell_type": "code",
   "execution_count": 75,
   "metadata": {},
   "outputs": [
    {
     "name": "stdout",
     "output_type": "stream",
     "text": [
      "105    0\n",
      "68     0\n",
      "479    0\n",
      "399    0\n",
      "434    0\n",
      "      ..\n",
      "835    0\n",
      "192    0\n",
      "629    0\n",
      "559    0\n",
      "684    0\n",
      "Name: Default, Length: 700, dtype: int64\n"
     ]
    }
   ],
   "source": [
    "print(y_train)"
   ]
  },
  {
   "cell_type": "code",
   "execution_count": 76,
   "metadata": {},
   "outputs": [
    {
     "data": {
      "text/plain": [
       "LogisticRegression(C=10, class_weight=None, dual=False, fit_intercept=True,\n",
       "                   intercept_scaling=1, l1_ratio=None, max_iter=100,\n",
       "                   multi_class='warn', n_jobs=None, penalty='l1',\n",
       "                   random_state=0, solver='warn', tol=0.0001, verbose=0,\n",
       "                   warm_start=False)"
      ]
     },
     "execution_count": 76,
     "metadata": {},
     "output_type": "execute_result"
    }
   ],
   "source": [
    "from sklearn.linear_model import LogisticRegression\n",
    "\n",
    "# l1 regularization gives better results\n",
    "lr = LogisticRegression(penalty='l1', C=10, random_state=0)\n",
    "lr.fit(X_train, y_train)"
   ]
  },
  {
   "cell_type": "code",
   "execution_count": 77,
   "metadata": {},
   "outputs": [
    {
     "name": "stdout",
     "output_type": "stream",
     "text": [
      "Train - Accuracy : 0.9271428571428572\n",
      "Train - Confusion matrix : [[631   7]\n",
      " [ 44  18]]\n",
      "Train - classification report :               precision    recall  f1-score   support\n",
      "\n",
      "           0       0.93      0.99      0.96       638\n",
      "           1       0.72      0.29      0.41        62\n",
      "\n",
      "    accuracy                           0.93       700\n",
      "   macro avg       0.83      0.64      0.69       700\n",
      "weighted avg       0.92      0.93      0.91       700\n",
      "\n",
      "Test - Accuracy : 0.89\n",
      "Test - Confusion matrix : [[260   2]\n",
      " [ 31   7]]\n",
      "Test - classification report :               precision    recall  f1-score   support\n",
      "\n",
      "           0       0.89      0.99      0.94       262\n",
      "           1       0.78      0.18      0.30        38\n",
      "\n",
      "    accuracy                           0.89       300\n",
      "   macro avg       0.84      0.59      0.62       300\n",
      "weighted avg       0.88      0.89      0.86       300\n",
      "\n"
     ]
    }
   ],
   "source": [
    "from sklearn import metrics\n",
    "\n",
    "# generate evaluation metrics\n",
    "print (\"Train - Accuracy :\", metrics.accuracy_score(y_train, lr.predict(X_train)))\n",
    "print (\"Train - Confusion matrix :\",metrics.confusion_matrix(y_train, lr.predict(X_train)))\n",
    "print (\"Train - classification report :\", metrics.classification_report(y_train, lr.predict(X_train)))\n",
    "\n",
    "print (\"Test - Accuracy :\", metrics.accuracy_score(y_test, lr.predict(X_test)))\n",
    "print (\"Test - Confusion matrix :\",metrics.confusion_matrix(y_test, lr.predict(X_test)))\n",
    "print (\"Test - classification report :\", metrics.classification_report(y_test, lr.predict(X_test)))"
   ]
  },
  {
   "cell_type": "markdown",
   "metadata": {},
   "source": [
    "# Since we have inbalanced data, F1-score is better than accuracy.\n",
    "# F1-score for trainning dataset is good at \"good\" credit, but not for \"bad\" credit predict. The same with training dataset."
   ]
  },
  {
   "cell_type": "code",
   "execution_count": 78,
   "metadata": {},
   "outputs": [
    {
     "data": {
      "image/png": "[encoded data removed]",
      "text/plain": [
       "<Figure size 576x576 with 1 Axes>"
      ]
     },
     "metadata": {
      "needs_background": "light"
     },
     "output_type": "display_data"
    }
   ],
   "source": [
    "from sklearn.metrics import confusion_matrix\n",
    "cm = confusion_matrix(y, model.predict(x).round())\n",
    "\n",
    "fig, ax = plt.subplots(figsize=(8, 8))\n",
    "ax.imshow(cm)\n",
    "ax.grid(False)\n",
    "ax.xaxis.set(ticks=(0, 1), ticklabels=('Predicted 0s', 'Predicted 1s'))\n",
    "ax.yaxis.set(ticks=(0, 1), ticklabels=('Actual 0s', 'Actual 1s'))\n",
    "ax.set_ylim(1.5, -0.5)\n",
    "for i in range(2):\n",
    "    for j in range(2):\n",
    "        ax.text(j, i, cm[i, j], ha='center', va='center', color='red')\n",
    "plt.show()"
   ]
  },
  {
   "cell_type": "code",
   "execution_count": 79,
   "metadata": {},
   "outputs": [
    {
     "name": "stdout",
     "output_type": "stream",
     "text": [
      "LogisticRegression(C=10, class_weight=None, dual=False, fit_intercept=True,\n",
      "                   intercept_scaling=1, l1_ratio=None, max_iter=100,\n",
      "                   multi_class='warn', n_jobs=None, penalty='l1',\n",
      "                   random_state=0, solver='warn', tol=0.0001, verbose=0,\n",
      "                   warm_start=False)\n"
     ]
    }
   ],
   "source": [
    "print(lr)"
   ]
  },
  {
   "cell_type": "code",
   "execution_count": 80,
   "metadata": {},
   "outputs": [
    {
     "name": "stdout",
     "output_type": "stream",
     "text": [
      "0.89\n"
     ]
    }
   ],
   "source": [
    "# Use score method to get accuracy of model\n",
    "score = lr.score(X_test, y_test)\n",
    "print(score)"
   ]
  },
  {
   "cell_type": "markdown",
   "metadata": {},
   "source": [
    "# We get predict dataframe for training dataset"
   ]
  },
  {
   "cell_type": "code",
   "execution_count": 81,
   "metadata": {},
   "outputs": [
    {
     "data": {
      "text/html": [
       "<div>\n",
       "<style scoped>\n",
       "    .dataframe tbody tr th:only-of-type {\n",
       "        vertical-align: middle;\n",
       "    }\n",
       "\n",
       "    .dataframe tbody tr th {\n",
       "        vertical-align: top;\n",
       "    }\n",
       "\n",
       "    .dataframe thead th {\n",
       "        text-align: right;\n",
       "    }\n",
       "</style>\n",
       "<table border=\"1\" class=\"dataframe\">\n",
       "  <thead>\n",
       "    <tr style=\"text-align: right;\">\n",
       "      <th></th>\n",
       "      <th>Default</th>\n",
       "      <th>predict</th>\n",
       "      <th>accuracy</th>\n",
       "    </tr>\n",
       "  </thead>\n",
       "  <tbody>\n",
       "    <tr>\n",
       "      <th>105</th>\n",
       "      <td>0</td>\n",
       "      <td>0.0</td>\n",
       "      <td>0.0</td>\n",
       "    </tr>\n",
       "    <tr>\n",
       "      <th>68</th>\n",
       "      <td>0</td>\n",
       "      <td>0.0</td>\n",
       "      <td>0.0</td>\n",
       "    </tr>\n",
       "    <tr>\n",
       "      <th>479</th>\n",
       "      <td>0</td>\n",
       "      <td>0.0</td>\n",
       "      <td>0.0</td>\n",
       "    </tr>\n",
       "    <tr>\n",
       "      <th>399</th>\n",
       "      <td>0</td>\n",
       "      <td>0.0</td>\n",
       "      <td>0.0</td>\n",
       "    </tr>\n",
       "    <tr>\n",
       "      <th>434</th>\n",
       "      <td>0</td>\n",
       "      <td>0.0</td>\n",
       "      <td>0.0</td>\n",
       "    </tr>\n",
       "    <tr>\n",
       "      <th>...</th>\n",
       "      <td>...</td>\n",
       "      <td>...</td>\n",
       "      <td>...</td>\n",
       "    </tr>\n",
       "    <tr>\n",
       "      <th>835</th>\n",
       "      <td>0</td>\n",
       "      <td>NaN</td>\n",
       "      <td>NaN</td>\n",
       "    </tr>\n",
       "    <tr>\n",
       "      <th>192</th>\n",
       "      <td>0</td>\n",
       "      <td>0.0</td>\n",
       "      <td>0.0</td>\n",
       "    </tr>\n",
       "    <tr>\n",
       "      <th>629</th>\n",
       "      <td>0</td>\n",
       "      <td>0.0</td>\n",
       "      <td>0.0</td>\n",
       "    </tr>\n",
       "    <tr>\n",
       "      <th>559</th>\n",
       "      <td>0</td>\n",
       "      <td>0.0</td>\n",
       "      <td>0.0</td>\n",
       "    </tr>\n",
       "    <tr>\n",
       "      <th>684</th>\n",
       "      <td>0</td>\n",
       "      <td>0.0</td>\n",
       "      <td>0.0</td>\n",
       "    </tr>\n",
       "  </tbody>\n",
       "</table>\n",
       "<p>700 rows × 3 columns</p>\n",
       "</div>"
      ],
      "text/plain": [
       "     Default  predict  accuracy\n",
       "105        0      0.0       0.0\n",
       "68         0      0.0       0.0\n",
       "479        0      0.0       0.0\n",
       "399        0      0.0       0.0\n",
       "434        0      0.0       0.0\n",
       "..       ...      ...       ...\n",
       "835        0      NaN       NaN\n",
       "192        0      0.0       0.0\n",
       "629        0      0.0       0.0\n",
       "559        0      0.0       0.0\n",
       "684        0      0.0       0.0\n",
       "\n",
       "[700 rows x 3 columns]"
      ]
     },
     "execution_count": 81,
     "metadata": {},
     "output_type": "execute_result"
    }
   ],
   "source": [
    "data_train_pre = pd.DataFrame({'Default': y_train})\n",
    "data_train_pre['predict'] = pd.DataFrame({'predict': lr.predict(X_train)}) \n",
    "data_train_pre['accuracy'] = data_train_pre['predict'] - data_train_pre['Default']\n",
    "data_train_pre"
   ]
  },
  {
   "cell_type": "code",
   "execution_count": 82,
   "metadata": {},
   "outputs": [
    {
     "data": {
      "text/html": [
       "<div>\n",
       "<style scoped>\n",
       "    .dataframe tbody tr th:only-of-type {\n",
       "        vertical-align: middle;\n",
       "    }\n",
       "\n",
       "    .dataframe tbody tr th {\n",
       "        vertical-align: top;\n",
       "    }\n",
       "\n",
       "    .dataframe thead th {\n",
       "        text-align: right;\n",
       "    }\n",
       "</style>\n",
       "<table border=\"1\" class=\"dataframe\">\n",
       "  <thead>\n",
       "    <tr style=\"text-align: right;\">\n",
       "      <th></th>\n",
       "      <th>Default</th>\n",
       "      <th>predict</th>\n",
       "      <th>accuracy</th>\n",
       "      <th>score</th>\n",
       "    </tr>\n",
       "  </thead>\n",
       "  <tbody>\n",
       "    <tr>\n",
       "      <th>count</th>\n",
       "      <td>700.000000</td>\n",
       "      <td>497.000000</td>\n",
       "      <td>497.000000</td>\n",
       "      <td>497.000000</td>\n",
       "    </tr>\n",
       "    <tr>\n",
       "      <th>mean</th>\n",
       "      <td>0.088571</td>\n",
       "      <td>0.032193</td>\n",
       "      <td>0.032193</td>\n",
       "      <td>727.050488</td>\n",
       "    </tr>\n",
       "    <tr>\n",
       "      <th>std</th>\n",
       "      <td>0.284327</td>\n",
       "      <td>0.176691</td>\n",
       "      <td>0.176691</td>\n",
       "      <td>101.964273</td>\n",
       "    </tr>\n",
       "    <tr>\n",
       "      <th>min</th>\n",
       "      <td>0.000000</td>\n",
       "      <td>0.000000</td>\n",
       "      <td>0.000000</td>\n",
       "      <td>708.472524</td>\n",
       "    </tr>\n",
       "    <tr>\n",
       "      <th>25%</th>\n",
       "      <td>0.000000</td>\n",
       "      <td>0.000000</td>\n",
       "      <td>0.000000</td>\n",
       "      <td>708.472524</td>\n",
       "    </tr>\n",
       "    <tr>\n",
       "      <th>50%</th>\n",
       "      <td>0.000000</td>\n",
       "      <td>0.000000</td>\n",
       "      <td>0.000000</td>\n",
       "      <td>708.472524</td>\n",
       "    </tr>\n",
       "    <tr>\n",
       "      <th>75%</th>\n",
       "      <td>0.000000</td>\n",
       "      <td>0.000000</td>\n",
       "      <td>0.000000</td>\n",
       "      <td>708.472524</td>\n",
       "    </tr>\n",
       "    <tr>\n",
       "      <th>max</th>\n",
       "      <td>1.000000</td>\n",
       "      <td>1.000000</td>\n",
       "      <td>1.000000</td>\n",
       "      <td>1285.550540</td>\n",
       "    </tr>\n",
       "  </tbody>\n",
       "</table>\n",
       "</div>"
      ],
      "text/plain": [
       "          Default     predict    accuracy        score\n",
       "count  700.000000  497.000000  497.000000   497.000000\n",
       "mean     0.088571    0.032193    0.032193   727.050488\n",
       "std      0.284327    0.176691    0.176691   101.964273\n",
       "min      0.000000    0.000000    0.000000   708.472524\n",
       "25%      0.000000    0.000000    0.000000   708.472524\n",
       "50%      0.000000    0.000000    0.000000   708.472524\n",
       "75%      0.000000    0.000000    0.000000   708.472524\n",
       "max      1.000000    1.000000    1.000000  1285.550540"
      ]
     },
     "execution_count": 82,
     "metadata": {},
     "output_type": "execute_result"
    }
   ],
   "source": [
    "# set up scoring logic\n",
    "\n",
    "target_score = 4000\n",
    "target_odds = 300\n",
    "pts_double_odds = 400\n",
    "\n",
    "factor = pts_double_odds / np.log(2)\n",
    "offset = target_score - factor * np.log(target_odds)\n",
    "\n",
    "# Score\n",
    "\n",
    "data_train_pre['score'] = offset + factor * data_train_pre['predict'].values\n",
    "data_train_pre.describe()\n",
    "\n",
    "\n"
   ]
  },
  {
   "cell_type": "markdown",
   "metadata": {},
   "source": [
    "# We get predict dataframe for testing dataset"
   ]
  },
  {
   "cell_type": "code",
   "execution_count": 83,
   "metadata": {},
   "outputs": [
    {
     "data": {
      "text/plain": [
       "numpy.ndarray"
      ]
     },
     "execution_count": 83,
     "metadata": {},
     "output_type": "execute_result"
    }
   ],
   "source": [
    "type(lr.predict(X_test))"
   ]
  },
  {
   "cell_type": "code",
   "execution_count": 84,
   "metadata": {},
   "outputs": [
    {
     "name": "stdout",
     "output_type": "stream",
     "text": [
      "[0 0 0 0 0 0 0 0 0 0 0 0 0 0 0 0 0 0 0 0 0 0 0 0 0 0 0 0 0 0 0 0 0 0 0 0 1\n",
      " 0 0 0 0 0 0 0 0 0 0 0 0 0 0 0 0 0 0 0 0 0 1 0 0 0 0 0 0 0 0 0 0 0 0 0 0 0\n",
      " 1 0 0 0 0 0 0 0 0 0 0 0 0 0 0 0 0 1 0 0 0 0 0 0 0 0 0 0 0 0 0 0 0 0 0 0 0\n",
      " 0 0 0 0 0 0 0 0 0 0 1 0 0 0 0 0 0 0 0 0 0 0 0 0 0 0 0 0 0 0 0 0 0 0 0 0 0\n",
      " 0 0 0 0 0 0 0 0 0 0 0 0 0 0 0 0 0 0 0 0 0 0 0 0 0 0 0 0 0 0 0 0 0 0 0 0 0\n",
      " 0 0 0 0 0 0 0 0 0 0 0 0 0 0 0 0 0 0 0 0 0 0 0 0 0 0 0 0 0 0 0 0 0 0 0 0 0\n",
      " 0 0 0 0 0 0 0 0 0 0 0 0 0 0 0 0 0 0 0 0 0 0 0 0 0 0 0 0 0 0 0 1 0 0 0 0 0\n",
      " 0 0 0 0 0 0 0 0 0 0 0 0 0 0 0 0 0 1 0 0 0 0 0 0 0 0 0 0 0 0 0 0 0 0 1 1 0\n",
      " 0 0 0 0]\n"
     ]
    }
   ],
   "source": [
    "print(lr.predict(X_test))"
   ]
  },
  {
   "cell_type": "code",
   "execution_count": 85,
   "metadata": {},
   "outputs": [],
   "source": [
    "d = pd.DataFrame()"
   ]
  },
  {
   "cell_type": "code",
   "execution_count": 86,
   "metadata": {},
   "outputs": [
    {
     "data": {
      "text/html": [
       "<div>\n",
       "<style scoped>\n",
       "    .dataframe tbody tr th:only-of-type {\n",
       "        vertical-align: middle;\n",
       "    }\n",
       "\n",
       "    .dataframe tbody tr th {\n",
       "        vertical-align: top;\n",
       "    }\n",
       "\n",
       "    .dataframe thead th {\n",
       "        text-align: right;\n",
       "    }\n",
       "</style>\n",
       "<table border=\"1\" class=\"dataframe\">\n",
       "  <thead>\n",
       "    <tr style=\"text-align: right;\">\n",
       "      <th></th>\n",
       "      <th>score</th>\n",
       "    </tr>\n",
       "  </thead>\n",
       "  <tbody>\n",
       "    <tr>\n",
       "      <th>count</th>\n",
       "      <td>300.000000</td>\n",
       "    </tr>\n",
       "    <tr>\n",
       "      <th>mean</th>\n",
       "      <td>725.784864</td>\n",
       "    </tr>\n",
       "    <tr>\n",
       "      <th>std</th>\n",
       "      <td>98.606617</td>\n",
       "    </tr>\n",
       "    <tr>\n",
       "      <th>min</th>\n",
       "      <td>708.472524</td>\n",
       "    </tr>\n",
       "    <tr>\n",
       "      <th>25%</th>\n",
       "      <td>708.472524</td>\n",
       "    </tr>\n",
       "    <tr>\n",
       "      <th>50%</th>\n",
       "      <td>708.472524</td>\n",
       "    </tr>\n",
       "    <tr>\n",
       "      <th>75%</th>\n",
       "      <td>708.472524</td>\n",
       "    </tr>\n",
       "    <tr>\n",
       "      <th>max</th>\n",
       "      <td>1285.550540</td>\n",
       "    </tr>\n",
       "  </tbody>\n",
       "</table>\n",
       "</div>"
      ],
      "text/plain": [
       "             score\n",
       "count   300.000000\n",
       "mean    725.784864\n",
       "std      98.606617\n",
       "min     708.472524\n",
       "25%     708.472524\n",
       "50%     708.472524\n",
       "75%     708.472524\n",
       "max    1285.550540"
      ]
     },
     "execution_count": 86,
     "metadata": {},
     "output_type": "execute_result"
    }
   ],
   "source": [
    "# set up scoring logic\n",
    "\n",
    "target_score = 4000\n",
    "target_odds = 300\n",
    "pts_double_odds = 400\n",
    "\n",
    "factor = pts_double_odds / np.log(2)\n",
    "offset = target_score - factor * np.log(target_odds)\n",
    "\n",
    "# Score\n",
    "\n",
    "d['score'] = offset + factor * lr.predict(X_test)\n",
    "d.describe()\n"
   ]
  },
  {
   "cell_type": "markdown",
   "metadata": {},
   "source": [
    "# Until now, we got all the predict scores for samples in 2014 "
   ]
  },
  {
   "cell_type": "markdown",
   "metadata": {},
   "source": [
    "# let's see for 'max_recent' variables for detail"
   ]
  },
  {
   "cell_type": "code",
   "execution_count": 88,
   "metadata": {},
   "outputs": [
    {
     "data": {
      "text/plain": [
       "1000"
      ]
     },
     "execution_count": 88,
     "metadata": {},
     "output_type": "execute_result"
    }
   ],
   "source": [
    "x1 = c.max_recent[:, np.newaxis]\n",
    "len(x1)"
   ]
  },
  {
   "cell_type": "code",
   "execution_count": 89,
   "metadata": {},
   "outputs": [
    {
     "data": {
      "text/plain": [
       "1000"
      ]
     },
     "execution_count": 89,
     "metadata": {},
     "output_type": "execute_result"
    }
   ],
   "source": [
    "y1 = detail.Default\n",
    "len(y1)"
   ]
  },
  {
   "cell_type": "code",
   "execution_count": 90,
   "metadata": {},
   "outputs": [],
   "source": [
    "from sklearn.metrics import r2_score\n",
    "from sklearn.metrics import mean_absolute_error\n",
    "from sklearn.metrics import mean_squared_error"
   ]
  },
  {
   "cell_type": "code",
   "execution_count": 91,
   "metadata": {},
   "outputs": [
    {
     "name": "stdout",
     "output_type": "stream",
     "text": [
      "R Squared :  0.1137692479673077\n",
      "Mean Absolute Error:  0.15952153536588473\n",
      "Root Mean Squared Error:  0.2824194888511456\n"
     ]
    },
    {
     "data": {
      "image/png": "[encoded data removed]",
      "text/plain": [
       "<Figure size 432x288 with 1 Axes>"
      ]
     },
     "metadata": {
      "needs_background": "light"
     },
     "output_type": "display_data"
    }
   ],
   "source": [
    "\n",
    "\n",
    "# Create linear regression object\n",
    "lr = lm.LinearRegression()\n",
    "\n",
    "# Train the model using the training sets\n",
    "lr.fit(x1, y1)\n",
    "\n",
    "# plotting fitted line\n",
    "plt.scatter(x1, y1,  color='black')\n",
    "plt.plot(x1, lr.predict(x1), color='blue', linewidth=3)\n",
    "plt.title('max_recent vs Credit')\n",
    "plt.ylabel('Credit')\n",
    "plt.xlabel('max_recent')\n",
    "\n",
    "# add predict value to the data frame\n",
    "detail['Default_pred'] = lr.predict(x1)\n",
    "\n",
    "# Using built-in function\n",
    "print (\"R Squared : \", r2_score(detail.Default, detail.Default_pred))\n",
    "print (\"Mean Absolute Error: \", mean_absolute_error(detail.Default, detail.Default_pred))\n",
    "print (\"Root Mean Squared Error: \", np.sqrt(mean_squared_error(detail.Default, detail.Default_pred)))"
   ]
  },
  {
   "cell_type": "code",
   "execution_count": 92,
   "metadata": {},
   "outputs": [],
   "source": [
    "y = sorted(detail.Default)"
   ]
  },
  {
   "cell_type": "code",
   "execution_count": 93,
   "metadata": {},
   "outputs": [
    {
     "name": "stdout",
     "output_type": "stream",
     "text": [
      "[0.10050048 0.03839163 0.03839163 0.03839163 0.03839163 0.4666763\n",
      " 0.03839163 0.03839163 0.10050048 0.03839163 0.03839163 0.10050048\n",
      " 0.03839163 0.03839163 0.03839163 0.03839163 0.10050048 0.03839163\n",
      " 0.03839163 0.10050048 0.10050048 0.03839163 0.10050048 0.10050048\n",
      " 0.10050048 0.23819801 0.03839163 0.03839163 0.23819801 0.03839163\n",
      " 0.03839163 0.03839163 0.03839163 0.03839163 0.03839163 0.10050048\n",
      " 0.03839163 0.03839163 0.23819801 0.10050048 0.10050048 0.03839163\n",
      " 0.03839163 0.10050048 0.03839163 0.10050048 0.10050048 0.03839163\n",
      " 0.23819801 0.10050048 0.03839163 0.03839163 0.03839163 0.03839163\n",
      " 0.10050048 0.10050048 0.03839163 0.03839163 0.03839163 0.03839163\n",
      " 0.03839163 0.03839163 0.03839163 0.03839163 0.10050048 0.03839163\n",
      " 0.03839163 0.10050048 0.10050048 0.10050048 0.03839163 0.10050048\n",
      " 0.03839163 0.10050048 0.03839163 0.03839163 0.10050048 0.03839163\n",
      " 0.03839163 0.10050048 0.10050048 0.03839163 0.03839163 0.23819801\n",
      " 0.03839163 0.10050048 0.03839163 0.03839163 0.03839163 0.03839163\n",
      " 0.10050048 0.03839163 0.03839163 0.10050048 0.03839163 0.03839163\n",
      " 0.03839163 0.03839163 0.03839163 0.03839163 0.10050048 0.03839163\n",
      " 0.10050048 0.03839163 0.03839163 0.03839163 0.03839163 0.10050048\n",
      " 0.03839163 0.10050048 0.03839163 0.03839163 0.03839163 0.03839163\n",
      " 0.10050048 0.03839163 0.03839163 0.10050048 0.10050048 0.03839163\n",
      " 0.03839163 0.03839163 0.10050048 0.23819801 0.03839163 0.03839163\n",
      " 0.03839163 0.03839163 0.03839163 0.03839163 0.03839163 0.03839163\n",
      " 0.10050048 0.03839163 0.10050048 0.03839163 0.03839163 0.10050048\n",
      " 0.03839163 0.10050048 0.03839163 0.03839163 0.03839163 0.03839163\n",
      " 0.10050048 0.03839163 0.10050048 0.03839163 0.10050048 0.23819801\n",
      " 0.23819801 0.10050048 0.03839163 0.03839163 0.03839163 0.10050048\n",
      " 0.03839163 0.10050048 0.23819801 0.03839163 0.10050048 0.10050048\n",
      " 0.10050048 0.10050048 0.03839163 0.03839163 0.10050048 0.03839163\n",
      " 0.03839163 0.03839163 0.03839163 0.03839163 0.10050048 0.03839163\n",
      " 0.03839163 0.10050048 0.10050048 0.03839163 0.10050048 0.03839163\n",
      " 0.10050048 0.10050048 0.10050048 0.03839163 0.03839163 0.03839163\n",
      " 0.10050048 0.03839163 0.03839163 0.10050048 0.03839163 0.10050048\n",
      " 0.23819801 0.03839163 0.10050048 0.03839163 0.10050048 0.03839163\n",
      " 0.10050048 0.03839163 0.10050048 0.03839163 0.03839163 0.03839163\n",
      " 0.10050048 0.10050048 0.10050048 0.10050048 0.10050048 0.03839163\n",
      " 0.23819801 0.03839163 0.10050048 0.23819801 0.03839163 0.03839163\n",
      " 0.10050048 0.03839163 0.03839163 0.03839163 0.10050048 0.10050048\n",
      " 0.03839163 0.10050048 0.03839163 0.10050048 0.03839163 0.03839163\n",
      " 0.10050048 0.10050048 0.10050048 0.03839163 0.10050048 0.10050048\n",
      " 0.03839163 0.10050048 0.23819801 0.03839163 0.10050048 0.23819801\n",
      " 0.03839163 0.03839163 0.03839163 0.03839163 0.03839163 0.03839163\n",
      " 0.10050048 0.03839163 0.10050048 0.10050048 0.10050048 0.10050048\n",
      " 0.10050048 0.10050048 0.03839163 0.03839163 0.03839163 0.23819801\n",
      " 0.03839163 0.10050048 0.03839163 0.03839163 0.03839163 0.10050048\n",
      " 0.03839163 0.10050048 0.10050048 0.03839163 0.03839163 0.10050048\n",
      " 0.03839163 0.03839163 0.03839163 0.03839163 0.03839163 0.23819801\n",
      " 0.10050048 0.03839163 0.03839163 0.10050048 0.10050048 0.10050048\n",
      " 0.10050048 0.03839163 0.10050048 0.10050048 0.03839163 0.10050048\n",
      " 0.10050048 0.10050048 0.03839163 0.10050048 0.03839163 0.10050048\n",
      " 0.10050048 0.03839163 0.10050048 0.03839163 0.10050048 0.03839163\n",
      " 0.10050048 0.03839163 0.03839163 0.03839163 0.03839163 0.10050048\n",
      " 0.03839163 0.10050048 0.03839163 0.03839163 0.10050048 0.10050048\n",
      " 0.23819801 0.03839163 0.23819801 0.10050048 0.03839163 0.03839163\n",
      " 0.03839163 0.03839163 0.10050048 0.03839163 0.03839163 0.10050048\n",
      " 0.10050048 0.03839163 0.10050048 0.03839163 0.03839163 0.03839163\n",
      " 0.03839163 0.03839163 0.10050048 0.10050048 0.03839163 0.10050048\n",
      " 0.03839163 0.03839163 0.03839163 0.10050048 0.10050048 0.03839163\n",
      " 0.03839163 0.10050048 0.23819801 0.03839163 0.03839163 0.10050048\n",
      " 0.03839163 0.03839163 0.10050048 0.03839163 0.03839163 0.10050048\n",
      " 0.10050048 0.10050048 0.10050048 0.03839163 0.03839163 0.10050048\n",
      " 0.03839163 0.10050048 0.10050048 0.03839163 0.03839163 0.03839163\n",
      " 0.03839163 0.03839163 0.10050048 0.10050048 0.03839163 0.10050048\n",
      " 0.03839163 0.03839163 0.10050048 0.10050048 0.03839163 0.03839163\n",
      " 0.03839163 0.4666763  0.10050048 0.10050048 0.23819801 0.03839163\n",
      " 0.03839163 0.03839163 0.03839163 0.23819801 0.03839163 0.03839163\n",
      " 0.03839163 0.10050048 0.23819801 0.03839163 0.03839163 0.03839163\n",
      " 0.03839163 0.10050048 0.03839163 0.10050048 0.10050048 0.10050048\n",
      " 0.03839163 0.23819801 0.23819801 0.10050048 0.03839163 0.03839163\n",
      " 0.03839163 0.03839163 0.03839163 0.03839163 0.4666763  0.10050048\n",
      " 0.03839163 0.03839163 0.03839163 0.23819801 0.23819801 0.03839163\n",
      " 0.10050048 0.10050048 0.10050048 0.03839163 0.10050048 0.10050048\n",
      " 0.03839163 0.23819801 0.10050048 0.03839163 0.03839163 0.23819801\n",
      " 0.23819801 0.03839163 0.10050048 0.23819801 0.10050048 0.03839163\n",
      " 0.03839163 0.10050048 0.10050048 0.23819801 0.03839163 0.10050048\n",
      " 0.23819801 0.23819801 0.03839163 0.10050048 0.10050048 0.10050048\n",
      " 0.10050048 0.03839163 0.23819801 0.10050048 0.10050048 0.10050048\n",
      " 0.03839163 0.10050048 0.10050048 0.10050048 0.03839163 0.23819801\n",
      " 0.10050048 0.10050048 0.10050048 0.10050048 0.03839163 0.10050048\n",
      " 0.03839163 0.03839163 0.10050048 0.03839163 0.10050048 0.10050048\n",
      " 0.03839163 0.10050048 0.10050048 0.03839163 0.23819801 0.10050048\n",
      " 0.23819801 0.03839163 0.10050048 0.23819801 0.03839163 0.10050048\n",
      " 0.03839163 0.10050048 0.10050048 0.10050048 0.03839163 0.10050048\n",
      " 0.10050048 0.03839163 0.4666763  0.10050048 0.10050048 0.10050048\n",
      " 0.10050048 0.03839163 0.03839163 0.03839163 0.03839163 0.10050048\n",
      " 0.03839163 0.23819801 0.10050048 0.10050048 0.10050048 0.10050048\n",
      " 0.03839163 0.03839163 0.10050048 0.03839163 0.03839163 0.10050048\n",
      " 0.03839163 0.10050048 0.23819801 0.10050048 0.03839163 0.10050048\n",
      " 0.10050048 0.10050048 0.23819801 0.4666763  0.10050048 0.03839163\n",
      " 0.03839163 0.10050048 0.03839163 0.10050048 0.10050048 0.10050048\n",
      " 0.03839163 0.10050048 0.10050048 0.03839163 0.10050048 0.4666763\n",
      " 0.03839163 0.03839163 0.03839163 0.23819801 0.03839163 0.10050048\n",
      " 0.10050048 0.10050048 0.03839163 0.10050048 0.23819801 0.10050048\n",
      " 0.10050048 0.10050048 0.10050048 0.03839163 0.10050048 0.03839163\n",
      " 0.03839163 0.10050048 0.10050048 0.4666763  0.10050048 0.10050048\n",
      " 0.10050048 0.03839163 0.10050048 0.10050048 0.23819801 0.10050048\n",
      " 0.03839163 0.10050048 0.03839163 0.10050048 0.10050048 0.10050048\n",
      " 0.10050048 0.03839163 0.10050048 0.4666763  0.23819801 0.10050048\n",
      " 0.03839163 0.10050048 0.03839163 0.23819801 0.10050048 0.4666763\n",
      " 0.03839163 0.03839163 0.10050048 0.10050048 0.10050048 0.10050048\n",
      " 0.03839163 0.10050048 0.03839163 0.10050048 0.03839163 0.03839163\n",
      " 0.23819801 0.10050048 0.10050048 0.10050048 0.10050048 0.4666763\n",
      " 0.10050048 0.03839163 0.03839163 0.10050048 0.10050048 0.23819801\n",
      " 0.03839163 0.10050048 0.10050048 0.10050048 0.10050048 0.10050048\n",
      " 0.10050048 0.10050048 0.03839163 0.03839163 0.03839163 0.10050048\n",
      " 0.10050048 0.10050048 0.03839163 0.10050048 0.10050048 0.10050048\n",
      " 0.10050048 0.03839163 0.10050048 0.03839163 0.10050048 0.10050048\n",
      " 0.03839163 0.10050048 0.10050048 0.10050048 0.03839163 0.10050048\n",
      " 0.10050048 0.10050048 0.10050048 0.10050048 0.03839163 0.03839163\n",
      " 0.03839163 0.10050048 0.10050048 0.10050048 0.03839163 0.23819801\n",
      " 0.10050048 0.10050048 0.10050048 0.10050048 0.10050048 0.10050048\n",
      " 0.23819801 0.10050048 0.10050048 0.71004425 0.03839163 0.23819801\n",
      " 0.10050048 0.10050048 0.03839163 0.10050048 0.23819801 0.23819801\n",
      " 0.03839163 0.03839163 0.23819801 0.10050048 0.10050048 0.10050048\n",
      " 0.4666763  0.10050048 0.23819801 0.03839163 0.10050048 0.10050048\n",
      " 0.03839163 0.03839163 0.03839163 0.03839163 0.10050048 0.10050048\n",
      " 0.10050048 0.10050048 0.10050048 0.10050048 0.10050048 0.10050048\n",
      " 0.10050048 0.03839163 0.03839163 0.03839163 0.23819801 0.23819801\n",
      " 0.10050048 0.23819801 0.10050048 0.03839163 0.03839163 0.23819801\n",
      " 0.10050048 0.10050048 0.10050048 0.03839163 0.03839163 0.10050048\n",
      " 0.10050048 0.10050048 0.03839163 0.10050048 0.10050048 0.10050048\n",
      " 0.03839163 0.03839163 0.10050048 0.10050048 0.03839163 0.10050048\n",
      " 0.10050048 0.23819801 0.23819801 0.10050048 0.23819801 0.4666763\n",
      " 0.03839163 0.03839163 0.23819801 0.10050048 0.10050048 0.23819801\n",
      " 0.23819801 0.10050048 0.03839163 0.10050048 0.10050048 0.10050048\n",
      " 0.10050048 0.10050048 0.10050048 0.10050048 0.10050048 0.10050048\n",
      " 0.03839163 0.10050048 0.10050048 0.03839163 0.10050048 0.23819801\n",
      " 0.10050048 0.03839163 0.10050048 0.10050048 0.10050048 0.03839163\n",
      " 0.03839163 0.23819801 0.10050048 0.23819801 0.03839163 0.10050048\n",
      " 0.10050048 0.10050048 0.10050048 0.4666763  0.23819801 0.10050048\n",
      " 0.10050048 0.10050048 0.4666763  0.03839163 0.10050048 0.03839163\n",
      " 0.03839163 0.03839163 0.10050048 0.10050048 0.10050048 0.10050048\n",
      " 0.03839163 0.03839163 0.03839163 0.10050048 0.10050048 0.10050048\n",
      " 0.10050048 0.10050048 0.10050048 0.10050048 0.10050048 0.10050048\n",
      " 0.03839163 0.03839163 0.03839163 0.10050048 0.10050048 0.10050048\n",
      " 0.10050048 0.03839163 0.4666763  0.10050048 0.03839163 0.10050048\n",
      " 0.10050048 0.03839163 0.03839163 0.10050048 0.10050048 0.10050048\n",
      " 0.03839163 0.03839163 0.03839163 0.03839163 0.03839163 0.03839163\n",
      " 0.03839163 0.03839163 0.03839163 0.03839163 0.10050048 0.03839163\n",
      " 0.10050048 0.10050048 0.23819801 0.23819801 0.10050048 0.03839163\n",
      " 0.10050048 0.10050048 0.03839163 0.10050048 0.03839163 0.03839163\n",
      " 0.10050048 0.03839163 0.03839163 0.10050048 0.10050048 0.10050048\n",
      " 0.03839163 0.10050048 0.4666763  0.03839163 0.03839163 0.23819801\n",
      " 0.10050048 0.23819801 0.10050048 0.10050048 0.10050048 0.03839163\n",
      " 0.03839163 0.10050048 0.03839163 0.03839163 0.10050048 0.03839163\n",
      " 0.10050048 0.10050048 0.03839163 0.23819801 0.10050048 0.03839163\n",
      " 0.03839163 0.03839163 0.03839163 0.10050048 0.03839163 0.03839163\n",
      " 0.10050048 0.10050048 0.03839163 0.10050048 0.03839163 0.03839163\n",
      " 0.10050048 0.03839163 0.10050048 0.23819801 0.10050048 0.03839163\n",
      " 0.03839163 0.10050048 0.23819801 0.4666763  0.10050048 0.10050048\n",
      " 0.03839163 0.03839163 0.03839163 0.03839163 0.10050048 0.23819801\n",
      " 0.03839163 0.03839163 0.23819801 0.23819801 0.4666763  0.03839163\n",
      " 0.03839163 0.10050048 0.23819801 0.03839163 0.23819801 0.10050048\n",
      " 0.10050048 0.10050048 0.10050048 0.10050048 0.23819801 0.23819801\n",
      " 0.10050048 0.23819801 0.23819801 0.10050048 0.10050048 0.10050048\n",
      " 0.10050048 0.10050048 0.23819801 0.10050048 0.10050048 0.23819801\n",
      " 0.4666763  0.23819801 0.71004425 0.71004425 0.23819801 0.10050048\n",
      " 0.10050048 0.23819801 0.10050048 0.71004425 0.10050048 0.4666763\n",
      " 0.23819801 0.4666763  0.10050048 0.10050048 0.03839163 0.23819801\n",
      " 0.10050048 0.71004425 0.23819801 0.10050048 0.10050048 0.71004425\n",
      " 0.10050048 0.10050048 0.23819801 0.23819801 0.10050048 0.4666763\n",
      " 0.71004425 0.10050048 0.10050048 0.23819801 0.23819801 0.23819801\n",
      " 0.10050048 0.03839163 0.03839163 0.71004425 0.4666763  0.10050048\n",
      " 0.10050048 0.10050048 0.03839163 0.10050048 0.10050048 0.10050048\n",
      " 0.23819801 0.10050048 0.10050048 0.23819801 0.10050048 0.23819801\n",
      " 0.10050048 0.10050048 0.10050048 0.23819801 0.4666763  0.10050048\n",
      " 0.10050048 0.10050048 0.10050048 0.23819801 0.03839163 0.23819801\n",
      " 0.10050048 0.10050048 0.23819801 0.10050048]\n",
      "[0 0 0 0 0 0 0 0 0 0 0 0 0 0 0 0 0 0 0 0 0 0 0 0 0 0 0 0 0 0 0 0 0 0 0 0 0\n",
      " 0 0 0 0 0 0 0 0 0 0 0 0 0 0 0 0 0 0 0 0 0 0 0 0 0 0 0 0 0 0 0 0 0 0 0 0 0\n",
      " 0 0 0 0 0 0 0 0 0 0 0 0 0 0 0 0 0 0 0 0 0 0 0 0 0 0 0 0 0 0 0 0 0 0 0 0 0\n",
      " 0 0 0 0 0 0 0 0 0 0 0 0 0 0 0 0 0 0 0 0 0 0 0 0 0 0 0 0 0 0 0 0 0 0 0 0 0\n",
      " 0 0 0 0 0 0 0 0 0 0 0 0 0 0 0 0 0 0 0 0 0 0 0 0 0 0 0 0 0 0 0 0 0 0 0 0 0\n",
      " 0 0 0 0 0 0 0 0 0 0 0 0 0 0 0 0 0 0 0 0 0 0 0 0 0 0 0 0 0 0 0 0 0 0 0 0 0\n",
      " 0 0 0 0 0 0 0 0 0 0 0 0 0 0 0 0 0 0 0 0 0 0 0 0 0 0 0 0 0 0 0 0 0 0 0 0 0\n",
      " 0 0 0 0 0 0 0 0 0 0 0 0 0 0 0 0 0 0 0 0 0 0 0 0 0 0 0 0 0 0 0 0 0 0 0 0 0\n",
      " 0 0 0 0 0 0 0 0 0 0 0 0 0 0 0 0 0 0 0 0 0 0 0 0 0 0 0 0 0 0 0 0 0 0 0 0 0\n",
      " 0 0 0 0 0 0 0 0 0 0 0 0 0 0 0 0 0 0 0 0 0 0 0 0 0 0 0 0 0 0 0 0 0 0 0 0 0\n",
      " 0 0 0 0 0 0 0 0 0 0 0 0 0 0 0 0 0 0 0 0 0 0 0 0 0 0 0 0 0 0 0 0 0 0 0 0 0\n",
      " 0 0 0 0 0 0 0 0 0 0 0 0 0 0 0 0 0 0 0 0 0 0 0 0 0 0 0 0 0 0 0 0 0 0 0 0 0\n",
      " 0 0 0 0 0 0 0 0 0 0 0 0 0 0 0 0 0 0 0 0 0 0 0 0 0 0 0 0 0 0 0 0 0 0 0 0 0\n",
      " 0 0 0 0 0 0 0 0 0 0 0 0 0 0 0 0 0 0 0 0 0 0 0 0 0 0 0 0 0 0 0 0 0 0 0 0 0\n",
      " 0 0 0 0 0 0 0 0 0 0 0 0 0 0 0 0 0 0 0 0 0 0 0 0 0 0 0 0 0 0 0 0 0 0 0 0 0\n",
      " 0 0 0 0 0 0 0 0 0 0 0 0 0 0 0 0 0 0 0 0 0 0 0 0 0 0 0 0 0 0 0 0 0 0 0 0 0\n",
      " 0 0 0 0 0 0 0 0 0 0 0 0 0 0 0 0 0 0 0 0 0 0 0 0 0 0 0 0 0 0 0 0 0 0 0 0 0\n",
      " 0 0 0 0 0 0 0 0 0 0 0 0 0 0 0 0 0 0 0 0 0 0 0 0 0 0 0 0 0 0 0 0 0 0 1 0 0\n",
      " 0 0 0 0 0 0 0 0 0 0 0 0 0 0 0 0 0 0 0 0 0 0 0 0 0 0 0 0 0 0 0 0 0 0 0 0 0\n",
      " 0 0 0 0 0 0 0 0 0 0 0 0 0 0 0 0 0 0 0 0 0 0 0 0 0 0 0 0 0 0 0 0 0 0 0 0 0\n",
      " 0 0 0 0 0 0 0 0 0 0 0 0 0 0 0 0 0 0 0 0 0 0 0 0 0 0 0 0 0 0 0 0 0 0 0 0 0\n",
      " 0 0 0 0 0 0 0 0 0 0 0 0 0 0 0 0 0 0 0 0 0 0 0 0 0 0 0 0 0 0 0 0 0 0 0 0 0\n",
      " 0 0 0 0 0 0 0 0 0 0 0 0 0 0 0 0 0 0 0 0 0 0 0 0 0 0 0 0 0 0 0 0 0 0 0 0 0\n",
      " 0 0 0 0 0 0 0 0 0 0 0 0 0 0 0 0 0 0 0 0 0 0 0 0 0 0 0 0 0 0 0 0 0 0 0 0 0\n",
      " 0 0 0 0 0 0 0 0 0 0 0 0 0 0 0 0 0 0 0 0 0 0 0 0 0 0 0 0 0 0 0 0 0 0 0 0 0\n",
      " 0 0 0 0 0 0 0 1 1 0 0 0 0 0 1 0 0 0 0 0 0 0 0 0 1 0 0 0 1 0 0 0 0 0 0 1 0\n",
      " 0 0 0 0 0 0 0 1 0 0 0 0 0 0 0 0 0 0 0 0 0 0 0 0 0 0 0 0 0 0 0 0 0 0 0 0 0\n",
      " 0]\n"
     ]
    },
    {
     "data": {
      "image/png": "[encoded data removed]",
      "text/plain": [
       "<Figure size 432x288 with 1 Axes>"
      ]
     },
     "metadata": {
      "needs_background": "light"
     },
     "output_type": "display_data"
    }
   ],
   "source": [
    "from sklearn.linear_model import LogisticRegression\n",
    "\n",
    "# manually add intercept\n",
    "#detail['intercept'] = 1\n",
    "#independent_variables = [x1.max_recent, 'intercept']\n",
    "\n",
    "#x1 = detail[independent_variables]       # independent variable\n",
    "#y = detail['Default']                      # dependent variable \n",
    "\n",
    "# instantiate a logistic regression model, and fit with X and y\n",
    "model = LogisticRegression()\n",
    "model = model.fit(x1, y)\n",
    "\n",
    "# check the accuracy on the training set\n",
    "model.score(x1, y)\n",
    "\n",
    "# predict_proba will return array containing proability of y = 0 and y = 1\n",
    "print (model.predict_proba(x1)[:,1])\n",
    "\n",
    "# predict will give convert the probability(y=1) values > .5 to 1 else 0  \n",
    "print (model.predict(x1))\n",
    "\n",
    "# plotting fitted line\n",
    "plt.scatter(detail.Annual_Income, y,  color='black')\n",
    "plt.yticks([0.0, 0.5, 1.0])\n",
    "plt.plot(detail.Annual_Income, model.predict_proba(x1)[:,1], color='blue', linewidth=3)\n",
    "plt.title('max_recent vs Default')\n",
    "plt.ylabel('Credit')\n",
    "plt.xlabel('max_recent')\n",
    "plt.show()"
   ]
  },
  {
   "cell_type": "code",
   "execution_count": 94,
   "metadata": {},
   "outputs": [
    {
     "name": "stdout",
     "output_type": "stream",
     "text": [
      "Accuracy : 0.906\n",
      "AUC : 0.7448777777777777\n",
      "Confusion matrix : [[899   1]\n",
      " [ 93   7]]\n",
      "classification report :               precision    recall  f1-score   support\n",
      "\n",
      "           0       0.91      1.00      0.95       900\n",
      "           1       0.88      0.07      0.13       100\n",
      "\n",
      "    accuracy                           0.91      1000\n",
      "   macro avg       0.89      0.53      0.54      1000\n",
      "weighted avg       0.90      0.91      0.87      1000\n",
      "\n"
     ]
    }
   ],
   "source": [
    "from sklearn import metrics\n",
    "\n",
    "# generate evaluation metrics\n",
    "print (\"Accuracy :\", metrics.accuracy_score(y, model.predict(x1)))\n",
    "print (\"AUC :\", metrics.roc_auc_score(y, model.predict_proba(x1)[:,1]))\n",
    "\n",
    "print (\"Confusion matrix :\",metrics.confusion_matrix(y, model.predict(x1)))\n",
    "print (\"classification report :\", metrics.classification_report(y, model.predict(x1)))"
   ]
  },
  {
   "cell_type": "code",
   "execution_count": 95,
   "metadata": {},
   "outputs": [
    {
     "name": "stdout",
     "output_type": "stream",
     "text": [
      "ROC AUC: 0.74\n"
     ]
    },
    {
     "data": {
      "image/png": "[encoded data removed]",
      "text/plain": [
       "<Figure size 432x288 with 1 Axes>"
      ]
     },
     "metadata": {
      "needs_background": "light"
     },
     "output_type": "display_data"
    }
   ],
   "source": [
    "# Determine the false positive and true positive rates\n",
    "fpr, tpr, _ = metrics.roc_curve(y, model.predict_proba(x1)[:,1])\n",
    " \n",
    "# Calculate the AUC\n",
    "roc_auc = metrics.auc(fpr, tpr)\n",
    "print ('ROC AUC: %0.2f' % roc_auc)\n",
    " \n",
    "# Plot of a ROC curve for a specific class\n",
    "plt.figure()\n",
    "plt.plot(fpr, tpr, label='ROC curve (area = %0.2f)' % roc_auc)\n",
    "plt.plot([0, 1], [0, 1], 'k--')\n",
    "plt.xlim([0.0, 1.0])\n",
    "plt.ylim([0.0, 1.05])\n",
    "plt.xlabel('False Positive Rate')\n",
    "plt.ylabel('True Positive Rate')\n",
    "plt.title('ROC Curve')\n",
    "plt.legend(loc=\"lower right\")\n",
    "plt.show()"
   ]
  },
  {
   "cell_type": "markdown",
   "metadata": {},
   "source": [
    "# ROC curve = .74, it shows thethold around (0.4, 0.8) might be better for predict when we consider max bad credit in recent 3 months."
   ]
  },
  {
   "cell_type": "markdown",
   "metadata": {},
   "source": [
    "# File line "
   ]
  },
  {
   "cell_type": "code",
   "execution_count": 97,
   "metadata": {},
   "outputs": [
    {
     "name": "stdout",
     "output_type": "stream",
     "text": [
      "C = 1 (default), Accuracy : 0.906\n",
      "C = 10, Accuracy : 0.906\n",
      "C = 100, Accuracy : 0.906\n",
      "C = 1000, Accuracy : 0.906\n"
     ]
    },
    {
     "data": {
      "image/png": "[encoded data removed]",
      "text/plain": [
       "<Figure size 432x288 with 1 Axes>"
      ]
     },
     "metadata": {
      "needs_background": "light"
     },
     "output_type": "display_data"
    }
   ],
   "source": [
    "# instantiate a logistic regression model with default c value, and fit with X and y\n",
    "model = LogisticRegression()\n",
    "model = model.fit(x1, y)\n",
    "\n",
    "# check the accuracy on the training set\n",
    "print (\"C = 1 (default), Accuracy :\", metrics.accuracy_score(y, model.predict(x1)))\n",
    "\n",
    "# instantiate a logistic regression model with c = 10, and fit with X and y\n",
    "model1 = LogisticRegression(C=10)\n",
    "model1 = model1.fit(x1, y)\n",
    "\n",
    "# check the accuracy on the training set\n",
    "print (\"C = 10, Accuracy :\", metrics.accuracy_score(y, model1.predict(x1)))\n",
    "\n",
    "# instantiate a logistic regression model with c = 100, and fit with X and y\n",
    "model2 = LogisticRegression(C=100)\n",
    "model2 = model2.fit(x1, y)\n",
    "\n",
    "# check the accuracy on the training set\n",
    "print (\"C = 100, Accuracy :\", metrics.accuracy_score(y, model2.predict(x1)))\n",
    "\n",
    "# instantiate a logistic regression model with c = 1000, and fit with X and y\n",
    "model3 = LogisticRegression(C=1000)\n",
    "model3 = model3.fit(x1, y)\n",
    "\n",
    "# check the accuracy on the training set\n",
    "print (\"C = 1000, Accuracy :\", metrics.accuracy_score(y, model3.predict(x1)))\n",
    "\n",
    "\n",
    "# plotting fitted line\n",
    "plt.scatter(detail.Month_On_Book, y,  color='black', label='Result')\n",
    "plt.yticks([0.0, 0.5, 1.0])\n",
    "plt.plot(c.max_recent, model.predict_proba(x1)[:,1], color='gray', linewidth=2, label='C=1.0')\n",
    "plt.plot(c.max_recent, model1.predict_proba(x1)[:,1], color='blue', linewidth=2,label='C=10')\n",
    "plt.plot(c.max_recent, model2.predict_proba(x1)[:,1], color='green', linewidth=2,label='C=100')\n",
    "plt.plot(c.max_recent, model3.predict_proba(x1)[:,1], color='red', linewidth=2,label='C=1000')\n",
    "plt.legend(loc='lower right') # legend location\n",
    "plt.title('max_recent  vs Default')\n",
    "plt.ylabel('Credit')\n",
    "plt.xlabel('max_recent')\n",
    "plt.show()"
   ]
  },
  {
   "cell_type": "markdown",
   "metadata": {},
   "source": [
    "# F1-score is better for 'good' credit but not for 'bad' credit person. \n",
    "\n",
    "# In summary, Multiple variables Logistic regression model predicts good for 'good' credit sample but not so good for 'bad' samples. \n",
    "\n",
    "# Private informations like age, annual income, most recent 3 months credit, and months booked in bank is statistically significant to predict 2014's credit. "
   ]
  },
  {
   "cell_type": "code",
   "execution_count": null,
   "metadata": {},
   "outputs": [],
   "source": []
  }
 ],
 "metadata": {
  "kernelspec": {
   "display_name": "Python 3",
   "language": "python",
   "name": "python3"
  },
  "language_info": {
   "codemirror_mode": {
    "name": "ipython",
    "version": 3
   },
   "file_extension": ".py",
   "mimetype": "text/x-python",
   "name": "python",
   "nbconvert_exporter": "python",
   "pygments_lexer": "ipython3",
   "version": "3.7.3"
  }
 },
 "nbformat": 4,
 "nbformat_minor": 2
}
